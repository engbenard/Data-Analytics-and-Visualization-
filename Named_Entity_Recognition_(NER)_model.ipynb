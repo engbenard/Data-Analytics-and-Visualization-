{
  "cells": [
    {
      "cell_type": "markdown",
      "source": [
        "**BRIGHT BENARD**\n",
        "\n",
        "**2100702287**  "
      ],
      "metadata": {
        "id": "Lt3pm6MZRQEE"
      }
    },
    {
      "cell_type": "markdown",
      "metadata": {
        "id": "q4gSqDnOaJ7W"
      },
      "source": [
        "\n",
        " **Named Entity Recognition (NER)** "
      ]
    },
    {
      "cell_type": "markdown",
      "metadata": {
        "id": "fdo8oAodagwo"
      },
      "source": [
        " **Import necessary libraries**"
      ]
    },
    {
      "cell_type": "code",
      "source": [
        "! pip install ipywidgets\n",
        "! jupyter nbextension enable --py widgetsnbextension"
      ],
      "metadata": {
        "colab": {
          "base_uri": "https://localhost:8080/"
        },
        "id": "RWnbUFhy1-DT",
        "outputId": "b2f552fe-fd76-4099-8e3f-a24352d22c41"
      },
      "execution_count": 1,
      "outputs": [
        {
          "output_type": "stream",
          "name": "stdout",
          "text": [
            "Looking in indexes: https://pypi.org/simple, https://us-python.pkg.dev/colab-wheels/public/simple/\n",
            "Requirement already satisfied: ipywidgets in /usr/local/lib/python3.7/dist-packages (7.7.1)\n",
            "Requirement already satisfied: ipykernel>=4.5.1 in /usr/local/lib/python3.7/dist-packages (from ipywidgets) (5.3.4)\n",
            "Requirement already satisfied: traitlets>=4.3.1 in /usr/local/lib/python3.7/dist-packages (from ipywidgets) (5.1.1)\n",
            "Requirement already satisfied: ipython-genutils~=0.2.0 in /usr/local/lib/python3.7/dist-packages (from ipywidgets) (0.2.0)\n",
            "Requirement already satisfied: ipython>=4.0.0 in /usr/local/lib/python3.7/dist-packages (from ipywidgets) (7.9.0)\n",
            "Requirement already satisfied: jupyterlab-widgets>=1.0.0 in /usr/local/lib/python3.7/dist-packages (from ipywidgets) (3.0.2)\n",
            "Requirement already satisfied: widgetsnbextension~=3.6.0 in /usr/local/lib/python3.7/dist-packages (from ipywidgets) (3.6.1)\n",
            "Requirement already satisfied: jupyter-client in /usr/local/lib/python3.7/dist-packages (from ipykernel>=4.5.1->ipywidgets) (6.1.12)\n",
            "Requirement already satisfied: tornado>=4.2 in /usr/local/lib/python3.7/dist-packages (from ipykernel>=4.5.1->ipywidgets) (5.1.1)\n",
            "Requirement already satisfied: setuptools>=18.5 in /usr/local/lib/python3.7/dist-packages (from ipython>=4.0.0->ipywidgets) (57.4.0)\n",
            "Requirement already satisfied: prompt-toolkit<2.1.0,>=2.0.0 in /usr/local/lib/python3.7/dist-packages (from ipython>=4.0.0->ipywidgets) (2.0.10)\n",
            "Collecting jedi>=0.10\n",
            "  Downloading jedi-0.18.1-py2.py3-none-any.whl (1.6 MB)\n",
            "\u001b[K     |████████████████████████████████| 1.6 MB 21.0 MB/s \n",
            "\u001b[?25hRequirement already satisfied: decorator in /usr/local/lib/python3.7/dist-packages (from ipython>=4.0.0->ipywidgets) (4.4.2)\n",
            "Requirement already satisfied: pygments in /usr/local/lib/python3.7/dist-packages (from ipython>=4.0.0->ipywidgets) (2.6.1)\n",
            "Requirement already satisfied: backcall in /usr/local/lib/python3.7/dist-packages (from ipython>=4.0.0->ipywidgets) (0.2.0)\n",
            "Requirement already satisfied: pickleshare in /usr/local/lib/python3.7/dist-packages (from ipython>=4.0.0->ipywidgets) (0.7.5)\n",
            "Requirement already satisfied: pexpect in /usr/local/lib/python3.7/dist-packages (from ipython>=4.0.0->ipywidgets) (4.8.0)\n",
            "Requirement already satisfied: parso<0.9.0,>=0.8.0 in /usr/local/lib/python3.7/dist-packages (from jedi>=0.10->ipython>=4.0.0->ipywidgets) (0.8.3)\n",
            "Requirement already satisfied: six>=1.9.0 in /usr/local/lib/python3.7/dist-packages (from prompt-toolkit<2.1.0,>=2.0.0->ipython>=4.0.0->ipywidgets) (1.15.0)\n",
            "Requirement already satisfied: wcwidth in /usr/local/lib/python3.7/dist-packages (from prompt-toolkit<2.1.0,>=2.0.0->ipython>=4.0.0->ipywidgets) (0.2.5)\n",
            "Requirement already satisfied: notebook>=4.4.1 in /usr/local/lib/python3.7/dist-packages (from widgetsnbextension~=3.6.0->ipywidgets) (5.3.1)\n",
            "Requirement already satisfied: nbconvert in /usr/local/lib/python3.7/dist-packages (from notebook>=4.4.1->widgetsnbextension~=3.6.0->ipywidgets) (5.6.1)\n",
            "Requirement already satisfied: jupyter-core>=4.4.0 in /usr/local/lib/python3.7/dist-packages (from notebook>=4.4.1->widgetsnbextension~=3.6.0->ipywidgets) (4.11.1)\n",
            "Requirement already satisfied: terminado>=0.8.1 in /usr/local/lib/python3.7/dist-packages (from notebook>=4.4.1->widgetsnbextension~=3.6.0->ipywidgets) (0.13.3)\n",
            "Requirement already satisfied: Send2Trash in /usr/local/lib/python3.7/dist-packages (from notebook>=4.4.1->widgetsnbextension~=3.6.0->ipywidgets) (1.8.0)\n",
            "Requirement already satisfied: nbformat in /usr/local/lib/python3.7/dist-packages (from notebook>=4.4.1->widgetsnbextension~=3.6.0->ipywidgets) (5.4.0)\n",
            "Requirement already satisfied: jinja2 in /usr/local/lib/python3.7/dist-packages (from notebook>=4.4.1->widgetsnbextension~=3.6.0->ipywidgets) (2.11.3)\n",
            "Requirement already satisfied: python-dateutil>=2.1 in /usr/local/lib/python3.7/dist-packages (from jupyter-client->ipykernel>=4.5.1->ipywidgets) (2.8.2)\n",
            "Requirement already satisfied: pyzmq>=13 in /usr/local/lib/python3.7/dist-packages (from jupyter-client->ipykernel>=4.5.1->ipywidgets) (23.2.1)\n",
            "Requirement already satisfied: ptyprocess in /usr/local/lib/python3.7/dist-packages (from terminado>=0.8.1->notebook>=4.4.1->widgetsnbextension~=3.6.0->ipywidgets) (0.7.0)\n",
            "Requirement already satisfied: MarkupSafe>=0.23 in /usr/local/lib/python3.7/dist-packages (from jinja2->notebook>=4.4.1->widgetsnbextension~=3.6.0->ipywidgets) (2.0.1)\n",
            "Requirement already satisfied: bleach in /usr/local/lib/python3.7/dist-packages (from nbconvert->notebook>=4.4.1->widgetsnbextension~=3.6.0->ipywidgets) (5.0.1)\n",
            "Requirement already satisfied: pandocfilters>=1.4.1 in /usr/local/lib/python3.7/dist-packages (from nbconvert->notebook>=4.4.1->widgetsnbextension~=3.6.0->ipywidgets) (1.5.0)\n",
            "Requirement already satisfied: testpath in /usr/local/lib/python3.7/dist-packages (from nbconvert->notebook>=4.4.1->widgetsnbextension~=3.6.0->ipywidgets) (0.6.0)\n",
            "Requirement already satisfied: defusedxml in /usr/local/lib/python3.7/dist-packages (from nbconvert->notebook>=4.4.1->widgetsnbextension~=3.6.0->ipywidgets) (0.7.1)\n",
            "Requirement already satisfied: mistune<2,>=0.8.1 in /usr/local/lib/python3.7/dist-packages (from nbconvert->notebook>=4.4.1->widgetsnbextension~=3.6.0->ipywidgets) (0.8.4)\n",
            "Requirement already satisfied: entrypoints>=0.2.2 in /usr/local/lib/python3.7/dist-packages (from nbconvert->notebook>=4.4.1->widgetsnbextension~=3.6.0->ipywidgets) (0.4)\n",
            "Requirement already satisfied: fastjsonschema in /usr/local/lib/python3.7/dist-packages (from nbformat->notebook>=4.4.1->widgetsnbextension~=3.6.0->ipywidgets) (2.16.1)\n",
            "Requirement already satisfied: jsonschema>=2.6 in /usr/local/lib/python3.7/dist-packages (from nbformat->notebook>=4.4.1->widgetsnbextension~=3.6.0->ipywidgets) (4.3.3)\n",
            "Requirement already satisfied: importlib-resources>=1.4.0 in /usr/local/lib/python3.7/dist-packages (from jsonschema>=2.6->nbformat->notebook>=4.4.1->widgetsnbextension~=3.6.0->ipywidgets) (5.9.0)\n",
            "Requirement already satisfied: pyrsistent!=0.17.0,!=0.17.1,!=0.17.2,>=0.14.0 in /usr/local/lib/python3.7/dist-packages (from jsonschema>=2.6->nbformat->notebook>=4.4.1->widgetsnbextension~=3.6.0->ipywidgets) (0.18.1)\n",
            "Requirement already satisfied: typing-extensions in /usr/local/lib/python3.7/dist-packages (from jsonschema>=2.6->nbformat->notebook>=4.4.1->widgetsnbextension~=3.6.0->ipywidgets) (4.1.1)\n",
            "Requirement already satisfied: attrs>=17.4.0 in /usr/local/lib/python3.7/dist-packages (from jsonschema>=2.6->nbformat->notebook>=4.4.1->widgetsnbextension~=3.6.0->ipywidgets) (22.1.0)\n",
            "Requirement already satisfied: importlib-metadata in /usr/local/lib/python3.7/dist-packages (from jsonschema>=2.6->nbformat->notebook>=4.4.1->widgetsnbextension~=3.6.0->ipywidgets) (4.12.0)\n",
            "Requirement already satisfied: zipp>=3.1.0 in /usr/local/lib/python3.7/dist-packages (from importlib-resources>=1.4.0->jsonschema>=2.6->nbformat->notebook>=4.4.1->widgetsnbextension~=3.6.0->ipywidgets) (3.8.1)\n",
            "Requirement already satisfied: webencodings in /usr/local/lib/python3.7/dist-packages (from bleach->nbconvert->notebook>=4.4.1->widgetsnbextension~=3.6.0->ipywidgets) (0.5.1)\n",
            "Installing collected packages: jedi\n",
            "Successfully installed jedi-0.18.1\n",
            "Enabling notebook extension jupyter-js-widgets/extension...\n",
            "Paths used for configuration of notebook: \n",
            "    \t/root/.jupyter/nbconfig/notebook.json\n",
            "      - Validating: \u001b[32mOK\u001b[0m\n",
            "Paths used for configuration of notebook: \n",
            "    \t/root/.jupyter/nbconfig/notebook.json\n"
          ]
        }
      ]
    },
    {
      "cell_type": "code",
      "execution_count": 2,
      "metadata": {
        "colab": {
          "base_uri": "https://localhost:8080/"
        },
        "id": "oLK7Y1jiNXDa",
        "outputId": "9e52bb78-c383-477c-989d-ddc513dd8079"
      },
      "outputs": [
        {
          "output_type": "stream",
          "name": "stdout",
          "text": [
            "Tensorflow version: 2.8.2\n",
            "GPU detected: [PhysicalDevice(name='/physical_device:GPU:0', device_type='GPU')]\n"
          ]
        }
      ],
      "source": [
        "%matplotlib inline\n",
        "import matplotlib.pyplot as plt\n",
        "import pandas as pd\n",
        "import numpy as np\n",
        "np.random.seed(0)\n",
        "plt.style.use(\"ggplot\")\n",
        "import io\n",
        "\n",
        "import tensorflow as tf\n",
        "from tensorflow import keras\n",
        "print('Tensorflow version:', tf.__version__)\n",
        "print('GPU detected:', tf.config.list_physical_devices('GPU'))"
      ]
    },
    {
      "cell_type": "markdown",
      "metadata": {
        "id": "4N_AW6lMbB5N"
      },
      "source": [
        "**Mount Google drive**"
      ]
    },
    {
      "cell_type": "code",
      "source": [
        "# mounting the drive dataset\n",
        "from google.colab import drive\n",
        "drive.mount('/content/drive')"
      ],
      "metadata": {
        "id": "FjQoLMA5X9sR",
        "colab": {
          "base_uri": "https://localhost:8080/"
        },
        "outputId": "b6840500-e582-4d27-be9f-a3147512ea50"
      },
      "execution_count": 3,
      "outputs": [
        {
          "output_type": "stream",
          "name": "stdout",
          "text": [
            "Mounted at /content/drive\n"
          ]
        }
      ]
    },
    {
      "cell_type": "markdown",
      "source": [
        "**Upload dataset**"
      ],
      "metadata": {
        "id": "m0UbOXG1dEka"
      }
    },
    {
      "cell_type": "code",
      "source": [
        "from pprint import pprint\n",
        "import matplotlib.pyplot as plt"
      ],
      "metadata": {
        "id": "Dc8d2OkGpQd2"
      },
      "execution_count": 6,
      "outputs": []
    },
    {
      "cell_type": "code",
      "source": [
        "#Upload file from local drive\n",
        "from google.colab import files\n",
        "uploaded = files.upload()"
      ],
      "metadata": {
        "id": "lAXtLkR_dCAc",
        "colab": {
          "resources": {
            "http://localhost:8080/nbextensions/google.colab/files.js": {
              "data": "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",
              "ok": true,
              "headers": [
                [
                  "content-type",
                  "application/javascript"
                ]
              ],
              "status": 200,
              "status_text": ""
            }
          },
          "base_uri": "https://localhost:8080/",
          "height": 73
        },
        "outputId": "ae87dd05-356c-4bc1-e6eb-4b84bb1145e5"
      },
      "execution_count": 4,
      "outputs": [
        {
          "output_type": "display_data",
          "data": {
            "text/plain": [
              "<IPython.core.display.HTML object>"
            ],
            "text/html": [
              "\n",
              "     <input type=\"file\" id=\"files-d6331b50-5fcf-428a-987a-1378d7ab2e34\" name=\"files[]\" multiple disabled\n",
              "        style=\"border:none\" />\n",
              "     <output id=\"result-d6331b50-5fcf-428a-987a-1378d7ab2e34\">\n",
              "      Upload widget is only available when the cell has been executed in the\n",
              "      current browser session. Please rerun this cell to enable.\n",
              "      </output>\n",
              "      <script src=\"/nbextensions/google.colab/files.js\"></script> "
            ]
          },
          "metadata": {}
        },
        {
          "output_type": "stream",
          "name": "stdout",
          "text": [
            "Saving ner_dataset.csv to ner_dataset.csv\n"
          ]
        }
      ]
    },
    {
      "cell_type": "code",
      "source": [
        "#Store dataset in Pandas Dataframe\n",
        "# df2 = pd.read_csv(io.BytesIO(uploaded['ner_dataset.csv']))\n",
        "# df2 = pd.read_csv(io.BytesIO(uploaded['Comments.csv']))"
      ],
      "metadata": {
        "id": "n_CuYdH_a2MI"
      },
      "execution_count": 35,
      "outputs": []
    },
    {
      "cell_type": "markdown",
      "source": [
        "**encode uploaded data**"
      ],
      "metadata": {
        "id": "fy2J9vMJr9ud"
      }
    },
    {
      "cell_type": "code",
      "execution_count": 11,
      "metadata": {
        "id": "mCKmz4SAbI_m",
        "colab": {
          "base_uri": "https://localhost:8080/",
          "height": 677
        },
        "outputId": "0764bdd2-d4bd-468e-d869-f611aea307a4"
      },
      "outputs": [
        {
          "output_type": "execute_result",
          "data": {
            "text/plain": [
              "     Sentence #           Word  POS    Tag\n",
              "0   Sentence: 1      Thousands  NNS      O\n",
              "1   Sentence: 1             of   IN      O\n",
              "2   Sentence: 1  demonstrators  NNS      O\n",
              "3   Sentence: 1           have  VBP      O\n",
              "4   Sentence: 1        marched  VBN      O\n",
              "5   Sentence: 1        through   IN      O\n",
              "6   Sentence: 1         London  NNP  B-geo\n",
              "7   Sentence: 1             to   TO      O\n",
              "8   Sentence: 1        protest   VB      O\n",
              "9   Sentence: 1            the   DT      O\n",
              "10  Sentence: 1            war   NN      O\n",
              "11  Sentence: 1             in   IN      O\n",
              "12  Sentence: 1           Iraq  NNP  B-geo\n",
              "13  Sentence: 1            and   CC      O\n",
              "14  Sentence: 1         demand   VB      O\n",
              "15  Sentence: 1            the   DT      O\n",
              "16  Sentence: 1     withdrawal   NN      O\n",
              "17  Sentence: 1             of   IN      O\n",
              "18  Sentence: 1        British   JJ  B-gpe\n",
              "19  Sentence: 1         troops  NNS      O"
            ],
            "text/html": [
              "\n",
              "  <div id=\"df-072b2642-03fb-4eeb-a27c-ba51abed1bd6\">\n",
              "    <div class=\"colab-df-container\">\n",
              "      <div>\n",
              "<style scoped>\n",
              "    .dataframe tbody tr th:only-of-type {\n",
              "        vertical-align: middle;\n",
              "    }\n",
              "\n",
              "    .dataframe tbody tr th {\n",
              "        vertical-align: top;\n",
              "    }\n",
              "\n",
              "    .dataframe thead th {\n",
              "        text-align: right;\n",
              "    }\n",
              "</style>\n",
              "<table border=\"1\" class=\"dataframe\">\n",
              "  <thead>\n",
              "    <tr style=\"text-align: right;\">\n",
              "      <th></th>\n",
              "      <th>Sentence #</th>\n",
              "      <th>Word</th>\n",
              "      <th>POS</th>\n",
              "      <th>Tag</th>\n",
              "    </tr>\n",
              "  </thead>\n",
              "  <tbody>\n",
              "    <tr>\n",
              "      <th>0</th>\n",
              "      <td>Sentence: 1</td>\n",
              "      <td>Thousands</td>\n",
              "      <td>NNS</td>\n",
              "      <td>O</td>\n",
              "    </tr>\n",
              "    <tr>\n",
              "      <th>1</th>\n",
              "      <td>Sentence: 1</td>\n",
              "      <td>of</td>\n",
              "      <td>IN</td>\n",
              "      <td>O</td>\n",
              "    </tr>\n",
              "    <tr>\n",
              "      <th>2</th>\n",
              "      <td>Sentence: 1</td>\n",
              "      <td>demonstrators</td>\n",
              "      <td>NNS</td>\n",
              "      <td>O</td>\n",
              "    </tr>\n",
              "    <tr>\n",
              "      <th>3</th>\n",
              "      <td>Sentence: 1</td>\n",
              "      <td>have</td>\n",
              "      <td>VBP</td>\n",
              "      <td>O</td>\n",
              "    </tr>\n",
              "    <tr>\n",
              "      <th>4</th>\n",
              "      <td>Sentence: 1</td>\n",
              "      <td>marched</td>\n",
              "      <td>VBN</td>\n",
              "      <td>O</td>\n",
              "    </tr>\n",
              "    <tr>\n",
              "      <th>5</th>\n",
              "      <td>Sentence: 1</td>\n",
              "      <td>through</td>\n",
              "      <td>IN</td>\n",
              "      <td>O</td>\n",
              "    </tr>\n",
              "    <tr>\n",
              "      <th>6</th>\n",
              "      <td>Sentence: 1</td>\n",
              "      <td>London</td>\n",
              "      <td>NNP</td>\n",
              "      <td>B-geo</td>\n",
              "    </tr>\n",
              "    <tr>\n",
              "      <th>7</th>\n",
              "      <td>Sentence: 1</td>\n",
              "      <td>to</td>\n",
              "      <td>TO</td>\n",
              "      <td>O</td>\n",
              "    </tr>\n",
              "    <tr>\n",
              "      <th>8</th>\n",
              "      <td>Sentence: 1</td>\n",
              "      <td>protest</td>\n",
              "      <td>VB</td>\n",
              "      <td>O</td>\n",
              "    </tr>\n",
              "    <tr>\n",
              "      <th>9</th>\n",
              "      <td>Sentence: 1</td>\n",
              "      <td>the</td>\n",
              "      <td>DT</td>\n",
              "      <td>O</td>\n",
              "    </tr>\n",
              "    <tr>\n",
              "      <th>10</th>\n",
              "      <td>Sentence: 1</td>\n",
              "      <td>war</td>\n",
              "      <td>NN</td>\n",
              "      <td>O</td>\n",
              "    </tr>\n",
              "    <tr>\n",
              "      <th>11</th>\n",
              "      <td>Sentence: 1</td>\n",
              "      <td>in</td>\n",
              "      <td>IN</td>\n",
              "      <td>O</td>\n",
              "    </tr>\n",
              "    <tr>\n",
              "      <th>12</th>\n",
              "      <td>Sentence: 1</td>\n",
              "      <td>Iraq</td>\n",
              "      <td>NNP</td>\n",
              "      <td>B-geo</td>\n",
              "    </tr>\n",
              "    <tr>\n",
              "      <th>13</th>\n",
              "      <td>Sentence: 1</td>\n",
              "      <td>and</td>\n",
              "      <td>CC</td>\n",
              "      <td>O</td>\n",
              "    </tr>\n",
              "    <tr>\n",
              "      <th>14</th>\n",
              "      <td>Sentence: 1</td>\n",
              "      <td>demand</td>\n",
              "      <td>VB</td>\n",
              "      <td>O</td>\n",
              "    </tr>\n",
              "    <tr>\n",
              "      <th>15</th>\n",
              "      <td>Sentence: 1</td>\n",
              "      <td>the</td>\n",
              "      <td>DT</td>\n",
              "      <td>O</td>\n",
              "    </tr>\n",
              "    <tr>\n",
              "      <th>16</th>\n",
              "      <td>Sentence: 1</td>\n",
              "      <td>withdrawal</td>\n",
              "      <td>NN</td>\n",
              "      <td>O</td>\n",
              "    </tr>\n",
              "    <tr>\n",
              "      <th>17</th>\n",
              "      <td>Sentence: 1</td>\n",
              "      <td>of</td>\n",
              "      <td>IN</td>\n",
              "      <td>O</td>\n",
              "    </tr>\n",
              "    <tr>\n",
              "      <th>18</th>\n",
              "      <td>Sentence: 1</td>\n",
              "      <td>British</td>\n",
              "      <td>JJ</td>\n",
              "      <td>B-gpe</td>\n",
              "    </tr>\n",
              "    <tr>\n",
              "      <th>19</th>\n",
              "      <td>Sentence: 1</td>\n",
              "      <td>troops</td>\n",
              "      <td>NNS</td>\n",
              "      <td>O</td>\n",
              "    </tr>\n",
              "  </tbody>\n",
              "</table>\n",
              "</div>\n",
              "      <button class=\"colab-df-convert\" onclick=\"convertToInteractive('df-072b2642-03fb-4eeb-a27c-ba51abed1bd6')\"\n",
              "              title=\"Convert this dataframe to an interactive table.\"\n",
              "              style=\"display:none;\">\n",
              "        \n",
              "  <svg xmlns=\"http://www.w3.org/2000/svg\" height=\"24px\"viewBox=\"0 0 24 24\"\n",
              "       width=\"24px\">\n",
              "    <path d=\"M0 0h24v24H0V0z\" fill=\"none\"/>\n",
              "    <path d=\"M18.56 5.44l.94 2.06.94-2.06 2.06-.94-2.06-.94-.94-2.06-.94 2.06-2.06.94zm-11 1L8.5 8.5l.94-2.06 2.06-.94-2.06-.94L8.5 2.5l-.94 2.06-2.06.94zm10 10l.94 2.06.94-2.06 2.06-.94-2.06-.94-.94-2.06-.94 2.06-2.06.94z\"/><path d=\"M17.41 7.96l-1.37-1.37c-.4-.4-.92-.59-1.43-.59-.52 0-1.04.2-1.43.59L10.3 9.45l-7.72 7.72c-.78.78-.78 2.05 0 2.83L4 21.41c.39.39.9.59 1.41.59.51 0 1.02-.2 1.41-.59l7.78-7.78 2.81-2.81c.8-.78.8-2.07 0-2.86zM5.41 20L4 18.59l7.72-7.72 1.47 1.35L5.41 20z\"/>\n",
              "  </svg>\n",
              "      </button>\n",
              "      \n",
              "  <style>\n",
              "    .colab-df-container {\n",
              "      display:flex;\n",
              "      flex-wrap:wrap;\n",
              "      gap: 12px;\n",
              "    }\n",
              "\n",
              "    .colab-df-convert {\n",
              "      background-color: #E8F0FE;\n",
              "      border: none;\n",
              "      border-radius: 50%;\n",
              "      cursor: pointer;\n",
              "      display: none;\n",
              "      fill: #1967D2;\n",
              "      height: 32px;\n",
              "      padding: 0 0 0 0;\n",
              "      width: 32px;\n",
              "    }\n",
              "\n",
              "    .colab-df-convert:hover {\n",
              "      background-color: #E2EBFA;\n",
              "      box-shadow: 0px 1px 2px rgba(60, 64, 67, 0.3), 0px 1px 3px 1px rgba(60, 64, 67, 0.15);\n",
              "      fill: #174EA6;\n",
              "    }\n",
              "\n",
              "    [theme=dark] .colab-df-convert {\n",
              "      background-color: #3B4455;\n",
              "      fill: #D2E3FC;\n",
              "    }\n",
              "\n",
              "    [theme=dark] .colab-df-convert:hover {\n",
              "      background-color: #434B5C;\n",
              "      box-shadow: 0px 1px 3px 1px rgba(0, 0, 0, 0.15);\n",
              "      filter: drop-shadow(0px 1px 2px rgba(0, 0, 0, 0.3));\n",
              "      fill: #FFFFFF;\n",
              "    }\n",
              "  </style>\n",
              "\n",
              "      <script>\n",
              "        const buttonEl =\n",
              "          document.querySelector('#df-072b2642-03fb-4eeb-a27c-ba51abed1bd6 button.colab-df-convert');\n",
              "        buttonEl.style.display =\n",
              "          google.colab.kernel.accessAllowed ? 'block' : 'none';\n",
              "\n",
              "        async function convertToInteractive(key) {\n",
              "          const element = document.querySelector('#df-072b2642-03fb-4eeb-a27c-ba51abed1bd6');\n",
              "          const dataTable =\n",
              "            await google.colab.kernel.invokeFunction('convertToInteractive',\n",
              "                                                     [key], {});\n",
              "          if (!dataTable) return;\n",
              "\n",
              "          const docLinkHtml = 'Like what you see? Visit the ' +\n",
              "            '<a target=\"_blank\" href=https://colab.research.google.com/notebooks/data_table.ipynb>data table notebook</a>'\n",
              "            + ' to learn more about interactive tables.';\n",
              "          element.innerHTML = '';\n",
              "          dataTable['output_type'] = 'display_data';\n",
              "          await google.colab.output.renderOutput(dataTable, element);\n",
              "          const docLink = document.createElement('div');\n",
              "          docLink.innerHTML = docLinkHtml;\n",
              "          element.appendChild(docLink);\n",
              "        }\n",
              "      </script>\n",
              "    </div>\n",
              "  </div>\n",
              "  "
            ]
          },
          "metadata": {},
          "execution_count": 11
        }
      ],
      "source": [
        "data = pd.read_csv(\"ner_dataset.csv\", encoding=\"latin1\")\n",
        "# data = pd.read_csv(\"Comments.csv\", encoding=\"latin1\")\n",
        "data = data.fillna(method=\"ffill\")\n",
        "data.head(20)"
      ]
    },
    {
      "cell_type": "code",
      "execution_count": 12,
      "metadata": {
        "id": "riOztP-8NXHT",
        "colab": {
          "base_uri": "https://localhost:8080/"
        },
        "outputId": "72a05ff6-6b67-44ca-94be-d9d400bf635b"
      },
      "outputs": [
        {
          "output_type": "stream",
          "name": "stdout",
          "text": [
            "Unique words in corpus: 35178\n",
            "Unique tags in corpus: 17\n"
          ]
        }
      ],
      "source": [
        "print(\"Unique words in corpus:\", data['Word'].nunique())\n",
        "print(\"Unique tags in corpus:\", data['Tag'].nunique())"
      ]
    },
    {
      "cell_type": "code",
      "execution_count": 13,
      "metadata": {
        "id": "ouD8-U7_Xo18"
      },
      "outputs": [],
      "source": [
        "words = list(set(data[\"Word\"].values))\n",
        "words.append(\"ENDPAD\")\n",
        "num_words = len(words)"
      ]
    },
    {
      "cell_type": "code",
      "execution_count": 14,
      "metadata": {
        "id": "VdJst_g5NYY_"
      },
      "outputs": [],
      "source": [
        "class SentenceGetter(object):\n",
        "    def __init__(self, data):\n",
        "        self.n_sent = 1\n",
        "        self.data = data\n",
        "        self.empty = False\n",
        "        agg_func = lambda s: [(w, p, t) for w, p, t in zip(s[\"Word\"].values.tolist(),\n",
        "                                                           s[\"POS\"].values.tolist(),\n",
        "                                                           s[\"Tag\"].values.tolist())]\n",
        "        self.grouped = self.data.groupby(\"Sentence #\").apply(agg_func)\n",
        "        self.sentences = [s for s in self.grouped]\n",
        "    \n",
        "    def get_next(self):\n",
        "        try:\n",
        "            s = self.grouped[\"Sentence: {}\".format(self.n_sent)]\n",
        "            self.n_sent += 1\n",
        "            return s\n",
        "        except:\n",
        "            return None"
      ]
    },
    {
      "cell_type": "code",
      "execution_count": 15,
      "metadata": {
        "id": "ZR99SdiLXo1_"
      },
      "outputs": [],
      "source": [
        "tags = list(set(data[\"Tag\"].values))\n",
        "num_tags = len(tags)"
      ]
    },
    {
      "cell_type": "markdown",
      "metadata": {
        "id": "M9D9JEzUbdnS"
      },
      "source": [
        "**Retrieve Sentences and Corresponsing Tags**"
      ]
    },
    {
      "cell_type": "code",
      "execution_count": 16,
      "metadata": {
        "id": "nMUQLppspkPj"
      },
      "outputs": [],
      "source": [
        "getter = SentenceGetter(data)\n",
        "sentences = getter.sentences"
      ]
    },
    {
      "cell_type": "code",
      "execution_count": 17,
      "metadata": {
        "id": "GhiSTt2UdzYC",
        "colab": {
          "base_uri": "https://localhost:8080/"
        },
        "outputId": "74565b8f-2e80-45cf-e464-5399fe153628"
      },
      "outputs": [
        {
          "output_type": "execute_result",
          "data": {
            "text/plain": [
              "[('Thousands', 'NNS', 'O'),\n",
              " ('of', 'IN', 'O'),\n",
              " ('demonstrators', 'NNS', 'O'),\n",
              " ('have', 'VBP', 'O'),\n",
              " ('marched', 'VBN', 'O'),\n",
              " ('through', 'IN', 'O'),\n",
              " ('London', 'NNP', 'B-geo'),\n",
              " ('to', 'TO', 'O'),\n",
              " ('protest', 'VB', 'O'),\n",
              " ('the', 'DT', 'O'),\n",
              " ('war', 'NN', 'O'),\n",
              " ('in', 'IN', 'O'),\n",
              " ('Iraq', 'NNP', 'B-geo'),\n",
              " ('and', 'CC', 'O'),\n",
              " ('demand', 'VB', 'O'),\n",
              " ('the', 'DT', 'O'),\n",
              " ('withdrawal', 'NN', 'O'),\n",
              " ('of', 'IN', 'O'),\n",
              " ('British', 'JJ', 'B-gpe'),\n",
              " ('troops', 'NNS', 'O'),\n",
              " ('from', 'IN', 'O'),\n",
              " ('that', 'DT', 'O'),\n",
              " ('country', 'NN', 'O'),\n",
              " ('.', '.', 'O')]"
            ]
          },
          "metadata": {},
          "execution_count": 17
        }
      ],
      "source": [
        "sentences[0]"
      ]
    },
    {
      "cell_type": "markdown",
      "metadata": {
        "id": "ldhuogX4eHE4"
      },
      "source": [
        "**Define Mappings between Sentences and Tags**"
      ]
    },
    {
      "cell_type": "code",
      "execution_count": 18,
      "metadata": {
        "id": "SvENHO18pkaQ"
      },
      "outputs": [],
      "source": [
        "word2idx = {w: i + 1 for i, w in enumerate(words)}\n",
        "tag2idx = {t: i for i, t in enumerate(tags)}"
      ]
    },
    {
      "cell_type": "code",
      "execution_count": 19,
      "metadata": {
        "id": "k74-YA2CXo2C",
        "colab": {
          "base_uri": "https://localhost:8080/"
        },
        "outputId": "1b1390de-c17f-4bf2-9a9f-9fafac711717"
      },
      "outputs": [
        {
          "output_type": "execute_result",
          "data": {
            "text/plain": [
              "{'mortally': 1,\n",
              " 'Bellinger': 2,\n",
              " 'Figaro': 3,\n",
              " '210': 4,\n",
              " 'Kareem': 5,\n",
              " 'Navarro': 6,\n",
              " 'reunions': 7,\n",
              " 'ringleader': 8,\n",
              " 'Xinqian': 9,\n",
              " 'Livni': 10,\n",
              " 'Ndjabu': 11,\n",
              " 'politicians': 12,\n",
              " 'optician': 13,\n",
              " 'Senegal-based': 14,\n",
              " 'skipped': 15,\n",
              " 'coastlines': 16,\n",
              " 'perestroika': 17,\n",
              " 'by': 18,\n",
              " 'brings': 19,\n",
              " 'Jabel': 20,\n",
              " '428': 21,\n",
              " 'coping': 22,\n",
              " 'camaraderie': 23,\n",
              " 'flashpoint': 24,\n",
              " 'vapor': 25,\n",
              " 'injury': 26,\n",
              " 'member-states': 27,\n",
              " '50.9': 28,\n",
              " 'beverages': 29,\n",
              " 'psychic': 30,\n",
              " 'interstate': 31,\n",
              " 'fulfill': 32,\n",
              " 'designated': 33,\n",
              " 'Michalak': 34,\n",
              " 'busy': 35,\n",
              " 'breakup': 36,\n",
              " 'Guadalupe': 37,\n",
              " 'Wat': 38,\n",
              " 'non-partisan': 39,\n",
              " 'Esenler': 40,\n",
              " 'BJP': 41,\n",
              " 'dismissed': 42,\n",
              " 'imposing': 43,\n",
              " 'Otto': 44,\n",
              " 'catastrophe': 45,\n",
              " 'X-Ray': 46,\n",
              " 'Hong': 47,\n",
              " 'preventive': 48,\n",
              " '0.5': 49,\n",
              " 'ChevronTexaco': 50,\n",
              " 'Salahaddin': 51,\n",
              " 'cabbage': 52,\n",
              " 'derivative': 53,\n",
              " 'Twitter': 54,\n",
              " 'Daniel': 55,\n",
              " 'comeback': 56,\n",
              " '1964': 57,\n",
              " 'killers': 58,\n",
              " 'Yosef': 59,\n",
              " 'am': 60,\n",
              " 'eggs': 61,\n",
              " 'Morocco': 62,\n",
              " 'headlines': 63,\n",
              " 'Teeple': 64,\n",
              " 'Dubai': 65,\n",
              " 'mid-January': 66,\n",
              " 'democratically': 67,\n",
              " '944': 68,\n",
              " 'Onyango': 69,\n",
              " 'H.': 70,\n",
              " '60-kilometer': 71,\n",
              " 'break-in': 72,\n",
              " 'Bernardo': 73,\n",
              " 'Dissident': 74,\n",
              " 'barbaric': 75,\n",
              " 'cater': 76,\n",
              " 'Matabeleland': 77,\n",
              " 'Pencils': 78,\n",
              " 'neutralized': 79,\n",
              " 'Chinhoyi': 80,\n",
              " 'COMMUNICATIONS': 81,\n",
              " 'reluctant': 82,\n",
              " 'moulting': 83,\n",
              " 'manipulate': 84,\n",
              " 'Osvaldo': 85,\n",
              " 'Kadirgamar': 86,\n",
              " 'Parchin': 87,\n",
              " 'Hallwood': 88,\n",
              " 'rising': 89,\n",
              " 'tank': 90,\n",
              " 'contrast': 91,\n",
              " '45-day': 92,\n",
              " 'primitive': 93,\n",
              " 'Qods': 94,\n",
              " 'nandrolone': 95,\n",
              " 'Napoleonic': 96,\n",
              " 'Obeid': 97,\n",
              " 'Argentinean': 98,\n",
              " 'Bernales': 99,\n",
              " 'B': 100,\n",
              " 'bulk': 101,\n",
              " 'Woo-ik': 102,\n",
              " '1896': 103,\n",
              " 'Tauran': 104,\n",
              " 'Al-Shihri': 105,\n",
              " 'meets': 106,\n",
              " 'Floods': 107,\n",
              " 'fast-food': 108,\n",
              " 'loaned': 109,\n",
              " 'Negotiations': 110,\n",
              " 'Charter': 111,\n",
              " 'counterkidnapping': 112,\n",
              " '50th': 113,\n",
              " 'Circuit': 114,\n",
              " 'Desouki': 115,\n",
              " 'Equatorial': 116,\n",
              " 'casualties': 117,\n",
              " 'reclusive': 118,\n",
              " 'el-Erian': 119,\n",
              " 'magistrate': 120,\n",
              " 'sector': 121,\n",
              " '15-20': 122,\n",
              " 'cession': 123,\n",
              " 'whites-only': 124,\n",
              " 'deep-seated': 125,\n",
              " 'F-16': 126,\n",
              " 'Papa': 127,\n",
              " 'rose-tinted': 128,\n",
              " 'Cauldron': 129,\n",
              " 'bluegrass': 130,\n",
              " 'bystanders': 131,\n",
              " 'Lockerbie': 132,\n",
              " 'feudal': 133,\n",
              " 'weaponry': 134,\n",
              " 'watermelons': 135,\n",
              " 'Honshu': 136,\n",
              " 'Bell': 137,\n",
              " 'either': 138,\n",
              " 'shootouts': 139,\n",
              " 'Ferdinand': 140,\n",
              " 'Diana': 141,\n",
              " 'Boko': 142,\n",
              " '18-million': 143,\n",
              " 'minimally': 144,\n",
              " 'delimited': 145,\n",
              " 'Videotape': 146,\n",
              " 'ecosystem': 147,\n",
              " '170': 148,\n",
              " 'mutual': 149,\n",
              " 'Bu-young': 150,\n",
              " '2,10,000': 151,\n",
              " 'rot': 152,\n",
              " 'Corpus': 153,\n",
              " 'done': 154,\n",
              " 'jam': 155,\n",
              " 'capsule': 156,\n",
              " '882': 157,\n",
              " '48': 158,\n",
              " 'Amagasaki': 159,\n",
              " 'Teodoro': 160,\n",
              " 'cleanup': 161,\n",
              " 'fundraising': 162,\n",
              " 'sessions': 163,\n",
              " 'unjustifiable': 164,\n",
              " 'hillsides': 165,\n",
              " 'Terrorism': 166,\n",
              " 'successful': 167,\n",
              " 'covered': 168,\n",
              " '3,937': 169,\n",
              " 'renounce': 170,\n",
              " 'Tupolev': 171,\n",
              " 'lakeside': 172,\n",
              " 'massacring': 173,\n",
              " 'Gerard': 174,\n",
              " 'Sixteen': 175,\n",
              " 'anniversary': 176,\n",
              " 'verge': 177,\n",
              " 'Jean-Charles': 178,\n",
              " '1655': 179,\n",
              " 'shortfalls': 180,\n",
              " 'policy': 181,\n",
              " 'Colorado': 182,\n",
              " '59': 183,\n",
              " '75-year-old': 184,\n",
              " 'Public': 185,\n",
              " 'Justin': 186,\n",
              " 'inventory': 187,\n",
              " 'Caledonia': 188,\n",
              " 'rented': 189,\n",
              " 'neutral': 190,\n",
              " 'Abeto': 191,\n",
              " 'symbol': 192,\n",
              " 'Zebra': 193,\n",
              " 'steadily': 194,\n",
              " 'hardcore': 195,\n",
              " 'Lunar': 196,\n",
              " 'values': 197,\n",
              " 'Coldplay': 198,\n",
              " 'experimental': 199,\n",
              " 'pedestrians': 200,\n",
              " 'Perwiz': 201,\n",
              " 'el-Bashir': 202,\n",
              " 'barred': 203,\n",
              " 'NLD': 204,\n",
              " 'good': 205,\n",
              " 'stricken': 206,\n",
              " 'Influenced': 207,\n",
              " 'examines': 208,\n",
              " 'Shevardnadze': 209,\n",
              " 'fanatics': 210,\n",
              " 'headscarf': 211,\n",
              " 'Saint': 212,\n",
              " 'scandal': 213,\n",
              " 'al-Rasul': 214,\n",
              " 'Football': 215,\n",
              " 'Suriname': 216,\n",
              " 'Register': 217,\n",
              " 'sidelined': 218,\n",
              " 'practicing': 219,\n",
              " 'deflected': 220,\n",
              " 'equivalent': 221,\n",
              " '1903': 222,\n",
              " 'al-Aqsa': 223,\n",
              " 'reign': 224,\n",
              " 'talons': 225,\n",
              " 'Qalibaf': 226,\n",
              " 'campus': 227,\n",
              " 'Zapata': 228,\n",
              " '300-million-dollar': 229,\n",
              " 'unimaginable': 230,\n",
              " 'father': 231,\n",
              " 'allots': 232,\n",
              " 'dollar-based': 233,\n",
              " 'dip': 234,\n",
              " 'resolution': 235,\n",
              " 'Nahles': 236,\n",
              " 'Proper': 237,\n",
              " 'grips': 238,\n",
              " 'Reforms': 239,\n",
              " 'Nagorno-Karabakh': 240,\n",
              " 'Al-Rai': 241,\n",
              " 'impulse': 242,\n",
              " 'Joaquim': 243,\n",
              " 'caves': 244,\n",
              " 'Interstate': 245,\n",
              " 'Shots': 246,\n",
              " 'PUBLIC': 247,\n",
              " 'March-May': 248,\n",
              " 'Bethelehem': 249,\n",
              " 'stating': 250,\n",
              " 'insulation': 251,\n",
              " 'condition': 252,\n",
              " 'convincing': 253,\n",
              " 'laissez-faire': 254,\n",
              " 'most-watched': 255,\n",
              " '80-page': 256,\n",
              " 'SOME': 257,\n",
              " 'cede': 258,\n",
              " 'Ann': 259,\n",
              " 'parliamentarian': 260,\n",
              " 'hitch': 261,\n",
              " 'advises': 262,\n",
              " 'normalize': 263,\n",
              " '551': 264,\n",
              " 'Vucelic': 265,\n",
              " 'Basotho': 266,\n",
              " 'Hogan': 267,\n",
              " 'skates': 268,\n",
              " 'Kiteswere': 269,\n",
              " '400': 270,\n",
              " 'pounced': 271,\n",
              " 'THOMAS': 272,\n",
              " '09-Sep': 273,\n",
              " 'hiking': 274,\n",
              " 'dishonest': 275,\n",
              " 'TEE': 276,\n",
              " 'gene': 277,\n",
              " 'senseless': 278,\n",
              " 'wool': 279,\n",
              " 'stumps': 280,\n",
              " 'prehistoric': 281,\n",
              " 'Javier': 282,\n",
              " 'Georg': 283,\n",
              " 'Rada': 284,\n",
              " 'audience': 285,\n",
              " '148': 286,\n",
              " 'midestern': 287,\n",
              " 'Miers': 288,\n",
              " 'subsidizes': 289,\n",
              " 'skyjackers': 290,\n",
              " 'Scattered': 291,\n",
              " 'compounds': 292,\n",
              " 'spectrum': 293,\n",
              " 'Anibal': 294,\n",
              " 'Arawak': 295,\n",
              " 'Back': 296,\n",
              " '1998': 297,\n",
              " 'Various': 298,\n",
              " 'intensified': 299,\n",
              " 'wearers': 300,\n",
              " 'fabricating': 301,\n",
              " 'layers': 302,\n",
              " 'transitioning': 303,\n",
              " 'Mashonaland': 304,\n",
              " 'faults': 305,\n",
              " 'Rashad': 306,\n",
              " 'Watched': 307,\n",
              " '281-4': 308,\n",
              " 'mutate': 309,\n",
              " 'Planche': 310,\n",
              " 'Managers': 311,\n",
              " 'Hajim': 312,\n",
              " 'parent': 313,\n",
              " 'disqualification': 314,\n",
              " 'Sullivan': 315,\n",
              " 'slippery': 316,\n",
              " 'three-phased': 317,\n",
              " 'machine-gun': 318,\n",
              " 'narcotic': 319,\n",
              " 'mitigated': 320,\n",
              " 'Sanchez': 321,\n",
              " 'Ateret': 322,\n",
              " 'Pennsylvania': 323,\n",
              " 'findings': 324,\n",
              " 'ending': 325,\n",
              " 'Melinda': 326,\n",
              " '6,500': 327,\n",
              " 'Blizzards': 328,\n",
              " 'Shakes': 329,\n",
              " 'expansion': 330,\n",
              " 'feat': 331,\n",
              " 'Kisangani': 332,\n",
              " 'Specialist': 333,\n",
              " 'preoccupied': 334,\n",
              " 'Restrepo': 335,\n",
              " 'centrally': 336,\n",
              " 'Milky': 337,\n",
              " 'Qing': 338,\n",
              " 'body-searching': 339,\n",
              " 'Sutalinov': 340,\n",
              " 'deposed': 341,\n",
              " 'unlocked': 342,\n",
              " 'Wooten': 343,\n",
              " 'subverting': 344,\n",
              " 'stem': 345,\n",
              " 'Chrysanthemum': 346,\n",
              " 'puppets': 347,\n",
              " 'Gardez': 348,\n",
              " 'Ciampi': 349,\n",
              " 'County': 350,\n",
              " 'strewn': 351,\n",
              " 'Butt': 352,\n",
              " 'Stabilization': 353,\n",
              " 'Altenberg': 354,\n",
              " '1950': 355,\n",
              " 'beat': 356,\n",
              " 'Speaking': 357,\n",
              " 'Kohlschreiber': 358,\n",
              " 'Clearwater': 359,\n",
              " 'behaviour': 360,\n",
              " 'Wajama': 361,\n",
              " 'Barco': 362,\n",
              " 'U.S.-organized': 363,\n",
              " 'realizing': 364,\n",
              " 'erected': 365,\n",
              " 'Sarath': 366,\n",
              " 'Guenther': 367,\n",
              " 'Crewmembers': 368,\n",
              " 'interfere': 369,\n",
              " 'maybe': 370,\n",
              " 'truth': 371,\n",
              " 'posed': 372,\n",
              " 'tiebreaker': 373,\n",
              " 'Prior': 374,\n",
              " 'Inaccessible': 375,\n",
              " 'Rajapaksa': 376,\n",
              " 'maltreated': 377,\n",
              " '1850s': 378,\n",
              " 'Beckstein': 379,\n",
              " 'relaying': 380,\n",
              " 'badly': 381,\n",
              " 'distance': 382,\n",
              " 'Liang': 383,\n",
              " 'scuffles': 384,\n",
              " 'overseen': 385,\n",
              " 'freely': 386,\n",
              " 'S.p.A.': 387,\n",
              " 'Saadat': 388,\n",
              " 'vulnerability': 389,\n",
              " 'hog': 390,\n",
              " 'gauging': 391,\n",
              " 'siphoned': 392,\n",
              " 'Large': 393,\n",
              " 'explanations': 394,\n",
              " '25-meter': 395,\n",
              " 'Mai': 396,\n",
              " 'Ghormley': 397,\n",
              " 'south-southeast': 398,\n",
              " 'Heiligendamm': 399,\n",
              " 'targeted': 400,\n",
              " 'aggravate': 401,\n",
              " 'Dick': 402,\n",
              " 'averaging': 403,\n",
              " 'screened': 404,\n",
              " 'high-flying': 405,\n",
              " 'piped': 406,\n",
              " 'fearing': 407,\n",
              " 'Frenchman': 408,\n",
              " '202.7': 409,\n",
              " 'Djalil': 410,\n",
              " 'sink': 411,\n",
              " 'suffocated': 412,\n",
              " 'inspiration': 413,\n",
              " '10-member': 414,\n",
              " 'Undeveloped': 415,\n",
              " 'finalist': 416,\n",
              " 'thyroid': 417,\n",
              " 'guerrilla': 418,\n",
              " 'Kibar': 419,\n",
              " 'Pierce': 420,\n",
              " 'double-taxation': 421,\n",
              " 'wall': 422,\n",
              " 'Nuriye': 423,\n",
              " 'decades-long': 424,\n",
              " 'heavily-armed': 425,\n",
              " 'speaking': 426,\n",
              " 'rejoin': 427,\n",
              " 'Alcolac': 428,\n",
              " 'consulted': 429,\n",
              " 'unsettled': 430,\n",
              " 'structure': 431,\n",
              " 'intention': 432,\n",
              " 'Hunter': 433,\n",
              " 'Soviet-backed': 434,\n",
              " 'Users': 435,\n",
              " 'extra-judicial': 436,\n",
              " 'Elyor': 437,\n",
              " 'sun': 438,\n",
              " 'Russian-made': 439,\n",
              " 'pretext': 440,\n",
              " 'establishments': 441,\n",
              " 'stung': 442,\n",
              " 'non-government': 443,\n",
              " 'longer': 444,\n",
              " 'Wayne': 445,\n",
              " 'loyalties': 446,\n",
              " 'ages': 447,\n",
              " 'surroundings': 448,\n",
              " 'Agrarian': 449,\n",
              " 'harmony': 450,\n",
              " 'actor-comedian': 451,\n",
              " 'Lankans': 452,\n",
              " 'Dohuk': 453,\n",
              " 'MUSEVENI': 454,\n",
              " 'Madoff': 455,\n",
              " 'Mastung': 456,\n",
              " 'protectionist': 457,\n",
              " '1633': 458,\n",
              " 'clues': 459,\n",
              " 'gag': 460,\n",
              " 'lit': 461,\n",
              " 'shantytown': 462,\n",
              " 'Budny': 463,\n",
              " 'Majdal': 464,\n",
              " 'weeklong': 465,\n",
              " 'compensating': 466,\n",
              " 'Armored': 467,\n",
              " 'perched': 468,\n",
              " 'Rory': 469,\n",
              " 'Conversion': 470,\n",
              " 'exaggerate': 471,\n",
              " 'Kyi': 472,\n",
              " 'unlike': 473,\n",
              " 'Isturiz': 474,\n",
              " 'Rio': 475,\n",
              " 'Medan': 476,\n",
              " 'Zablocki': 477,\n",
              " '120-member': 478,\n",
              " 'Stein': 479,\n",
              " 'financier': 480,\n",
              " 'stints': 481,\n",
              " 'Chaudhry': 482,\n",
              " 'ambassador-at-large': 483,\n",
              " 'regions': 484,\n",
              " '6,000': 485,\n",
              " 'Katzenellenbogen': 486,\n",
              " 'Foster': 487,\n",
              " 'suffice': 488,\n",
              " 'haves': 489,\n",
              " '429': 490,\n",
              " 'Subaru': 491,\n",
              " 'e-mail': 492,\n",
              " 'Kurt': 493,\n",
              " 'accessing': 494,\n",
              " 'Palestinian-owned': 495,\n",
              " 'schoolchildren': 496,\n",
              " 'Farewell': 497,\n",
              " 'dissatisfied': 498,\n",
              " 'LLC': 499,\n",
              " 'evil': 500,\n",
              " 'Botswana': 501,\n",
              " 'non-local': 502,\n",
              " '27-member': 503,\n",
              " 'memorials': 504,\n",
              " 'profiled': 505,\n",
              " 'Beck': 506,\n",
              " 'Atmar': 507,\n",
              " 'Kurram': 508,\n",
              " 'waned': 509,\n",
              " 'risk-sharing': 510,\n",
              " 'remind': 511,\n",
              " 'Endeavor': 512,\n",
              " 'Papahanaumokuakea': 513,\n",
              " 'lifts': 514,\n",
              " 'coat': 515,\n",
              " 'Bluefields': 516,\n",
              " 'convey': 517,\n",
              " 'flotilla': 518,\n",
              " 'Here': 519,\n",
              " 'since': 520,\n",
              " 'PPR': 521,\n",
              " 'al-Kidwa': 522,\n",
              " 'Deir': 523,\n",
              " 'Ebola-like': 524,\n",
              " 'Mikulski': 525,\n",
              " 'objecting': 526,\n",
              " 'sailing': 527,\n",
              " 'larvae': 528,\n",
              " 'relative': 529,\n",
              " 'firefight': 530,\n",
              " 'Thirty': 531,\n",
              " 'Yu': 532,\n",
              " 'Benedicto': 533,\n",
              " 'Zaire': 534,\n",
              " 'aging': 535,\n",
              " 'setbacks': 536,\n",
              " 'suspects': 537,\n",
              " '158': 538,\n",
              " 'Parish': 539,\n",
              " 'set': 540,\n",
              " 'Zuma': 541,\n",
              " 'Sherpao': 542,\n",
              " 'Shawal': 543,\n",
              " 'gilded': 544,\n",
              " 'Circle-K': 545,\n",
              " 'Sean': 546,\n",
              " 'Rawalpindi': 547,\n",
              " 'Attacks': 548,\n",
              " 'reputed': 549,\n",
              " 'messed': 550,\n",
              " 'Argentina': 551,\n",
              " 'Domino': 552,\n",
              " 'beast': 553,\n",
              " 'WWII': 554,\n",
              " 'al-Salami': 555,\n",
              " 'repay': 556,\n",
              " 'Qassem': 557,\n",
              " 'overturned': 558,\n",
              " 'Westinghouse': 559,\n",
              " 'EPA': 560,\n",
              " 'unidentified': 561,\n",
              " '481': 562,\n",
              " 'Dutch-born': 563,\n",
              " 'Kakar': 564,\n",
              " 'helping': 565,\n",
              " 'Delray': 566,\n",
              " 'double-bombing': 567,\n",
              " '3.7': 568,\n",
              " 'transform': 569,\n",
              " 'Gabriele': 570,\n",
              " 'rumored': 571,\n",
              " 'baked': 572,\n",
              " 'penalty': 573,\n",
              " 'Domination': 574,\n",
              " '5,300': 575,\n",
              " 'Ogun': 576,\n",
              " 'Blasting': 577,\n",
              " 'approved': 578,\n",
              " 'Nancy': 579,\n",
              " 'typical': 580,\n",
              " 'monoxide': 581,\n",
              " 'Al-Anbar': 582,\n",
              " 'expedition': 583,\n",
              " 'elevated': 584,\n",
              " 'off-shore': 585,\n",
              " 'length': 586,\n",
              " 'Souq': 587,\n",
              " 'Irawaddy': 588,\n",
              " 'Takeifa': 589,\n",
              " 'hopefuls': 590,\n",
              " 'standoff': 591,\n",
              " 'Tsunami': 592,\n",
              " '1,90,000': 593,\n",
              " 'field': 594,\n",
              " 'banditry': 595,\n",
              " 'Yugansk': 596,\n",
              " 'whir': 597,\n",
              " 'exceptional': 598,\n",
              " 'Aye': 599,\n",
              " 'neighboring': 600,\n",
              " 'allowed': 601,\n",
              " 'Navy': 602,\n",
              " '737': 603,\n",
              " 'pegs': 604,\n",
              " 'Diddy': 605,\n",
              " 'Medusa': 606,\n",
              " 'saves': 607,\n",
              " 'Atta-Mills': 608,\n",
              " 'dozing': 609,\n",
              " 'accusation': 610,\n",
              " 'Jared': 611,\n",
              " 'headgear': 612,\n",
              " 'galaxy': 613,\n",
              " 'Massum': 614,\n",
              " '214': 615,\n",
              " 'pumped': 616,\n",
              " 'Helios': 617,\n",
              " 'ski': 618,\n",
              " 'Salaam': 619,\n",
              " 'Jinnah': 620,\n",
              " 'completing': 621,\n",
              " 'Wu': 622,\n",
              " 'financially-troubled': 623,\n",
              " 'biographies': 624,\n",
              " 'Slumping': 625,\n",
              " 'Tuncay': 626,\n",
              " 'Shrek': 627,\n",
              " 'illegally-copied': 628,\n",
              " 'life-spans': 629,\n",
              " 'inter-faith': 630,\n",
              " 'landslide': 631,\n",
              " 'telephones': 632,\n",
              " 'Shepherd': 633,\n",
              " 'Elton': 634,\n",
              " 'harder': 635,\n",
              " 'immunize': 636,\n",
              " 'aircraft': 637,\n",
              " 'abducting': 638,\n",
              " 'lays': 639,\n",
              " 'garden': 640,\n",
              " 'already': 641,\n",
              " 'Malaysian': 642,\n",
              " 'Characterized': 643,\n",
              " 'Honest': 644,\n",
              " 'Sixty-eight': 645,\n",
              " 'long-armed': 646,\n",
              " 'cease-fire': 647,\n",
              " 'gasoline': 648,\n",
              " 'Edward': 649,\n",
              " 'harassing': 650,\n",
              " 'shield': 651,\n",
              " 'beached': 652,\n",
              " 'Hayward': 653,\n",
              " 'purses': 654,\n",
              " 'heart': 655,\n",
              " 'cholesterol': 656,\n",
              " 'Chaudry': 657,\n",
              " 'eighth-seeded': 658,\n",
              " '46th': 659,\n",
              " 'preserving': 660,\n",
              " 'Amed': 661,\n",
              " 'FERNANDEZ': 662,\n",
              " 'partisans': 663,\n",
              " 'Electrical': 664,\n",
              " 'Giovanni': 665,\n",
              " 'valley': 666,\n",
              " 'supertanker': 667,\n",
              " 'Andy': 668,\n",
              " 'C-130': 669,\n",
              " 'understood': 670,\n",
              " 'elementary': 671,\n",
              " 'NARC': 672,\n",
              " 'Otton': 673,\n",
              " 'affected': 674,\n",
              " 'black-market': 675,\n",
              " 'Sarta': 676,\n",
              " '9,000': 677,\n",
              " '450-member': 678,\n",
              " 'Tkachev': 679,\n",
              " 'Ambuhl': 680,\n",
              " 'big': 681,\n",
              " 'cocaine': 682,\n",
              " 'given': 683,\n",
              " 'laughing': 684,\n",
              " 'Zimmermann': 685,\n",
              " 'seemingly': 686,\n",
              " 'Indigenous': 687,\n",
              " 'revolutionary': 688,\n",
              " 'Greis': 689,\n",
              " 'Abbassid': 690,\n",
              " 'super-combined': 691,\n",
              " 'Commons': 692,\n",
              " 'Baluch': 693,\n",
              " 'protect': 694,\n",
              " 'Kiwis': 695,\n",
              " 'Seabees': 696,\n",
              " 'Iranian-born': 697,\n",
              " 'vegetation': 698,\n",
              " 'mathematically-based': 699,\n",
              " 'mini-strokes': 700,\n",
              " 'Zenani': 701,\n",
              " 'competitions': 702,\n",
              " 'choking': 703,\n",
              " 'enormous': 704,\n",
              " 'Louisiana': 705,\n",
              " 'Mousa': 706,\n",
              " 'Kentucky': 707,\n",
              " 'HAVING': 708,\n",
              " 'advising': 709,\n",
              " 'Fillon': 710,\n",
              " 'outskirts': 711,\n",
              " 'interethnic': 712,\n",
              " 'Shameri': 713,\n",
              " 'brothers': 714,\n",
              " 'crisis-related': 715,\n",
              " 'Farms': 716,\n",
              " 'African-Union': 717,\n",
              " '7.7': 718,\n",
              " 'Carolyn': 719,\n",
              " 'Zahedan': 720,\n",
              " 'adviser': 721,\n",
              " 'Newman': 722,\n",
              " 'combatants': 723,\n",
              " 'result': 724,\n",
              " 'Ground': 725,\n",
              " 'Haerbaling': 726,\n",
              " 'Popov': 727,\n",
              " 'Attorney': 728,\n",
              " 'Marjah': 729,\n",
              " 'solitary': 730,\n",
              " 'Planning': 731,\n",
              " 'Batlle': 732,\n",
              " 'Sprat': 733,\n",
              " 'Duffy': 734,\n",
              " 'divine': 735,\n",
              " 'locks': 736,\n",
              " '%-plus': 737,\n",
              " 'once-a-day': 738,\n",
              " 'cordons': 739,\n",
              " 'meddle': 740,\n",
              " 'hubs': 741,\n",
              " 'which': 742,\n",
              " '27.99': 743,\n",
              " 'joblessness': 744,\n",
              " '3.76': 745,\n",
              " 'TRUE': 746,\n",
              " 'fingerprint': 747,\n",
              " 'Maritime': 748,\n",
              " 'growers': 749,\n",
              " 'knocked': 750,\n",
              " 'suspicion': 751,\n",
              " 'CDC': 752,\n",
              " 'cries': 753,\n",
              " 'rebuked': 754,\n",
              " 'have': 755,\n",
              " 'intervening': 756,\n",
              " 'consolidate': 757,\n",
              " 'steer': 758,\n",
              " 'quelling': 759,\n",
              " 'embracing': 760,\n",
              " 'Ecweru': 761,\n",
              " 'siding': 762,\n",
              " 'survivors': 763,\n",
              " 'diver': 764,\n",
              " 'apple': 765,\n",
              " 'lamentation': 766,\n",
              " 'Muttur': 767,\n",
              " '18,000': 768,\n",
              " 'centre': 769,\n",
              " 'Previously': 770,\n",
              " 'resurgence': 771,\n",
              " 'commemorates': 772,\n",
              " 'self-inflicted': 773,\n",
              " 'Curacao': 774,\n",
              " '225-member': 775,\n",
              " 'Individual': 776,\n",
              " 'position': 777,\n",
              " 'Gazeta': 778,\n",
              " '53.2': 779,\n",
              " 'trillion': 780,\n",
              " 'Frontier': 781,\n",
              " '740': 782,\n",
              " 'preference': 783,\n",
              " '1.1': 784,\n",
              " 'basis': 785,\n",
              " 'six-tenths': 786,\n",
              " 'post-Castro': 787,\n",
              " 'golf': 788,\n",
              " 'worst-ever': 789,\n",
              " 'backpack': 790,\n",
              " 'Natagehi': 791,\n",
              " 'yacht': 792,\n",
              " 'elephant': 793,\n",
              " 'Mullaittivu': 794,\n",
              " 'Kowal': 795,\n",
              " 'safely': 796,\n",
              " 'Desert': 797,\n",
              " 'al-Islam': 798,\n",
              " 'founders': 799,\n",
              " 'ZARDARI': 800,\n",
              " '5.8': 801,\n",
              " '10th': 802,\n",
              " 'late-morning': 803,\n",
              " 'Nadeem': 804,\n",
              " 'rentals': 805,\n",
              " 'Ruled': 806,\n",
              " 'Barring': 807,\n",
              " 'greenery': 808,\n",
              " 'gardens': 809,\n",
              " 'match': 810,\n",
              " 'militarist': 811,\n",
              " 'Nagpur': 812,\n",
              " 'synchronize': 813,\n",
              " 'battles': 814,\n",
              " 'uncorroborated': 815,\n",
              " 'Reinhold': 816,\n",
              " 'al-Arab': 817,\n",
              " 'Marigat': 818,\n",
              " 'May-84': 819,\n",
              " 'caretaker': 820,\n",
              " 'Ariana': 821,\n",
              " 'friendly': 822,\n",
              " 'Grinstein': 823,\n",
              " 'comprehensive': 824,\n",
              " 'French': 825,\n",
              " 'Abyei': 826,\n",
              " 'Luanda': 827,\n",
              " 'HUNTER': 828,\n",
              " 'Madrazo': 829,\n",
              " 'CNN-Turk': 830,\n",
              " 'wayward': 831,\n",
              " 'Games': 832,\n",
              " 'mirrored': 833,\n",
              " 'sodium': 834,\n",
              " 'Jean-Betrand': 835,\n",
              " 'series': 836,\n",
              " 'Thus': 837,\n",
              " 'Maronite': 838,\n",
              " 'oldest': 839,\n",
              " 'outages': 840,\n",
              " 'acknowledged': 841,\n",
              " 'Wlodzimierz': 842,\n",
              " 'advent': 843,\n",
              " 'Ghangzhou': 844,\n",
              " 'governor': 845,\n",
              " 'Australia': 846,\n",
              " 'Ashgabat': 847,\n",
              " 'Commodore': 848,\n",
              " 'pan-Iraqi': 849,\n",
              " 'SLA': 850,\n",
              " 'Pradel': 851,\n",
              " 'Lindsay': 852,\n",
              " 'fabricated': 853,\n",
              " 'around': 854,\n",
              " 'precede': 855,\n",
              " 'incomplete': 856,\n",
              " 'Selig': 857,\n",
              " 'Tin': 858,\n",
              " 'Sonntag': 859,\n",
              " 'emergency': 860,\n",
              " 'fervently': 861,\n",
              " 'disapproves': 862,\n",
              " 'Service': 863,\n",
              " 'dominating': 864,\n",
              " 'percent': 865,\n",
              " 'convenience': 866,\n",
              " 'surrounded': 867,\n",
              " 'Snow': 868,\n",
              " 'avocado': 869,\n",
              " 'RENE': 870,\n",
              " 'estimates': 871,\n",
              " 'nevertheless': 872,\n",
              " 'Worried': 873,\n",
              " 'Torres': 874,\n",
              " 'Beerenberg': 875,\n",
              " 'telecommunications': 876,\n",
              " 'inundate': 877,\n",
              " 'propelled': 878,\n",
              " 'Authorization': 879,\n",
              " 'energy': 880,\n",
              " 'vying': 881,\n",
              " 'briefings': 882,\n",
              " 'inquired': 883,\n",
              " 'socialism': 884,\n",
              " 'Tarmohammed': 885,\n",
              " 'Naise': 886,\n",
              " 'including': 887,\n",
              " 'Minar-e-Pakistan': 888,\n",
              " 'surface': 889,\n",
              " 'proximity': 890,\n",
              " 'confessing': 891,\n",
              " 'master': 892,\n",
              " 'eruptions': 893,\n",
              " 'provocative': 894,\n",
              " 'Beja': 895,\n",
              " 'giants': 896,\n",
              " 'Mandera': 897,\n",
              " 'Petter': 898,\n",
              " 'before': 899,\n",
              " 'News-Washington': 900,\n",
              " 'fiercely': 901,\n",
              " 'petitioning': 902,\n",
              " 'handcuffs': 903,\n",
              " 'restated': 904,\n",
              " 'seven': 905,\n",
              " 'Giza': 906,\n",
              " 'Pontifical': 907,\n",
              " 'Boniface': 908,\n",
              " 'Ingmar': 909,\n",
              " 'attackers': 910,\n",
              " 'Curtain': 911,\n",
              " 'Katrina': 912,\n",
              " 'attendees': 913,\n",
              " 'turnout': 914,\n",
              " 'tidal': 915,\n",
              " 'inequality': 916,\n",
              " 'Will': 917,\n",
              " 'Reinhardt': 918,\n",
              " 'investigator': 919,\n",
              " 'Victoria': 920,\n",
              " 'joyous': 921,\n",
              " 'motorcycle': 922,\n",
              " 'warned': 923,\n",
              " 'Frontieres': 924,\n",
              " '7.5': 925,\n",
              " 'textile': 926,\n",
              " 'post': 927,\n",
              " 'Yemen': 928,\n",
              " 'Voting': 929,\n",
              " 'Kennedys': 930,\n",
              " 'Less': 931,\n",
              " 'surpluses': 932,\n",
              " 'Trondheim': 933,\n",
              " 'Plum': 934,\n",
              " '1804': 935,\n",
              " 'Planica': 936,\n",
              " 'U': 937,\n",
              " 'sickened': 938,\n",
              " 'paid': 939,\n",
              " 'farmer': 940,\n",
              " 'demonstrated': 941,\n",
              " 'ice': 942,\n",
              " 'Sheik': 943,\n",
              " 'corpsman': 944,\n",
              " 'Conventions': 945,\n",
              " 'extricated': 946,\n",
              " 'Atiku': 947,\n",
              " 'Madonna': 948,\n",
              " 'Gdansk': 949,\n",
              " 'footprints': 950,\n",
              " 'ABHISIT': 951,\n",
              " 'boating': 952,\n",
              " 'ranging': 953,\n",
              " 'drilling': 954,\n",
              " 'important': 955,\n",
              " 'hope': 956,\n",
              " 'unexploded': 957,\n",
              " 'nickel': 958,\n",
              " 'garner': 959,\n",
              " 'traditions': 960,\n",
              " 'GDP': 961,\n",
              " 'pre-judge': 962,\n",
              " 'Sarna': 963,\n",
              " 'Relais': 964,\n",
              " '1.8': 965,\n",
              " 'Details': 966,\n",
              " 'thefts': 967,\n",
              " 'Population': 968,\n",
              " 'Pines': 969,\n",
              " 'precision': 970,\n",
              " 'Kimi': 971,\n",
              " 'jetliners': 972,\n",
              " 'politicizing': 973,\n",
              " 'unsettling': 974,\n",
              " 'jewel': 975,\n",
              " 'CCAMLR': 976,\n",
              " 'simulation': 977,\n",
              " 'forests': 978,\n",
              " 'Moustapha': 979,\n",
              " 'ambushed': 980,\n",
              " 'Images': 981,\n",
              " 'Ottoman': 982,\n",
              " 'electing': 983,\n",
              " 'rushed': 984,\n",
              " 'feed': 985,\n",
              " 'virulent': 986,\n",
              " 'bit': 987,\n",
              " 'kitchen': 988,\n",
              " '308-to-106': 989,\n",
              " 'screens': 990,\n",
              " 'bib': 991,\n",
              " 'several': 992,\n",
              " 'Tessa': 993,\n",
              " 'deadliest': 994,\n",
              " 'PKK': 995,\n",
              " 'levy': 996,\n",
              " 'Kaliningrad': 997,\n",
              " 'cycles': 998,\n",
              " 'Right': 999,\n",
              " 'Rape': 1000,\n",
              " ...}"
            ]
          },
          "metadata": {},
          "execution_count": 19
        }
      ],
      "source": [
        "word2idx"
      ]
    },
    {
      "cell_type": "markdown",
      "metadata": {
        "id": "zXzE0MdsemCH"
      },
      "source": [
        " **Padding Input Sentences and Creating Train/Test Splits**"
      ]
    },
    {
      "cell_type": "code",
      "execution_count": 20,
      "metadata": {
        "id": "R44g5T7NYp_H",
        "colab": {
          "base_uri": "https://localhost:8080/",
          "height": 265
        },
        "outputId": "759c20c6-5c58-4171-e99c-14a64081c69b"
      },
      "outputs": [
        {
          "output_type": "display_data",
          "data": {
            "text/plain": [
              "<Figure size 432x288 with 1 Axes>"
            ],
            "image/png": "[encoded data removed]"
          },
          "metadata": {}
        }
      ],
      "source": [
        "plt.hist([len(s) for s in sentences], bins=50)\n",
        "plt.show()"
      ]
    },
    {
      "cell_type": "code",
      "execution_count": 21,
      "metadata": {
        "id": "FS4u3CRkpkc1"
      },
      "outputs": [],
      "source": [
        "from tensorflow.keras.preprocessing.sequence import pad_sequences\n",
        "\n",
        "max_len = 50\n",
        "\n",
        "X = [[word2idx[w[0]] for w in s] for s in sentences]\n",
        "X = pad_sequences(maxlen=max_len, sequences=X, padding=\"post\", value=num_words-1)\n",
        "\n",
        "y = [[tag2idx[w[2]] for w in s] for s in sentences]\n",
        "y = pad_sequences(maxlen=max_len, sequences=y, padding=\"post\", value=tag2idx[\"O\"])"
      ]
    },
    {
      "cell_type": "code",
      "execution_count": 22,
      "metadata": {
        "id": "q7VfnnkXpkfS"
      },
      "outputs": [],
      "source": [
        "from sklearn.model_selection import train_test_split\n",
        "x_train, x_test, y_train, y_test = train_test_split(X, y, test_size=0.2, random_state=1)"
      ]
    },
    {
      "cell_type": "markdown",
      "metadata": {
        "id": "P-r4PR85hpoF"
      },
      "source": [
        "**Build and Compile a Bidirectional LSTM Model**"
      ]
    },
    {
      "cell_type": "code",
      "execution_count": 23,
      "metadata": {
        "id": "Y2vM7IkXpkiH"
      },
      "outputs": [],
      "source": [
        "from tensorflow.keras import *\n",
        "from tensorflow.keras import Model, Input\n",
        "from tensorflow.keras.layers import LSTM, Embedding, Dense\n",
        "from tensorflow.keras.layers import TimeDistributed, SpatialDropout1D, Bidirectional"
      ]
    },
    {
      "cell_type": "code",
      "execution_count": 24,
      "metadata": {
        "id": "Aee3mCZ3pkkv",
        "colab": {
          "base_uri": "https://localhost:8080/"
        },
        "outputId": "3650cb35-c9be-4b58-c764-299b499f6c2a"
      },
      "outputs": [
        {
          "output_type": "stream",
          "name": "stderr",
          "text": [
            "WARNING:tensorflow:Layer lstm will not use cuDNN kernels since it doesn't meet the criteria. It will use a generic GPU kernel as fallback when running on GPU.\n",
            "WARNING:tensorflow:Layer lstm will not use cuDNN kernels since it doesn't meet the criteria. It will use a generic GPU kernel as fallback when running on GPU.\n",
            "WARNING:tensorflow:Layer lstm will not use cuDNN kernels since it doesn't meet the criteria. It will use a generic GPU kernel as fallback when running on GPU.\n"
          ]
        },
        {
          "output_type": "stream",
          "name": "stdout",
          "text": [
            "Model: \"model\"\n",
            "_________________________________________________________________\n",
            " Layer (type)                Output Shape              Param #   \n",
            "=================================================================\n",
            " input_1 (InputLayer)        [(None, 50)]              0         \n",
            "                                                                 \n",
            " embedding (Embedding)       (None, 50, 50)            1758950   \n",
            "                                                                 \n",
            " spatial_dropout1d (SpatialD  (None, 50, 50)           0         \n",
            " ropout1D)                                                       \n",
            "                                                                 \n",
            " bidirectional (Bidirectiona  (None, 50, 200)          120800    \n",
            " l)                                                              \n",
            "                                                                 \n",
            " time_distributed (TimeDistr  (None, 50, 17)           3417      \n",
            " ibuted)                                                         \n",
            "                                                                 \n",
            "=================================================================\n",
            "Total params: 1,883,167\n",
            "Trainable params: 1,883,167\n",
            "Non-trainable params: 0\n",
            "_________________________________________________________________\n"
          ]
        }
      ],
      "source": [
        "input_word = Input(shape=(max_len,))\n",
        "model = Embedding(input_dim=num_words, output_dim=50, input_length=max_len)(input_word)\n",
        "model = SpatialDropout1D(0.1)(model)\n",
        "model = Bidirectional(LSTM(units=100, return_sequences=True, recurrent_dropout=0.1))(model)\n",
        "out = TimeDistributed(Dense(num_tags, activation=\"softmax\"))(model)\n",
        "model = Model(input_word, out)\n",
        "model.summary()"
      ]
    },
    {
      "cell_type": "code",
      "execution_count": 25,
      "metadata": {
        "id": "kOBpQg26pkqh"
      },
      "outputs": [],
      "source": [
        "model.compile(optimizer=\"adam\",\n",
        "              loss=\"sparse_categorical_crossentropy\",\n",
        "              metrics=[\"accuracy\"])"
      ]
    },
    {
      "cell_type": "markdown",
      "source": [
        "**Install livelossplot**"
      ],
      "metadata": {
        "id": "IGH_COfWs9Ex"
      }
    },
    {
      "cell_type": "code",
      "source": [
        "pip install livelossplot"
      ],
      "metadata": {
        "id": "mb-Yo1r1s7xV",
        "colab": {
          "base_uri": "https://localhost:8080/"
        },
        "outputId": "fa2c6a95-ca59-40c2-8b63-288af48190ed"
      },
      "execution_count": 26,
      "outputs": [
        {
          "output_type": "stream",
          "name": "stdout",
          "text": [
            "Looking in indexes: https://pypi.org/simple, https://us-python.pkg.dev/colab-wheels/public/simple/\n",
            "Collecting livelossplot\n",
            "  Downloading livelossplot-0.5.5-py3-none-any.whl (22 kB)\n",
            "Requirement already satisfied: ipython==7.* in /usr/local/lib/python3.7/dist-packages (from livelossplot) (7.9.0)\n",
            "Requirement already satisfied: bokeh in /usr/local/lib/python3.7/dist-packages (from livelossplot) (2.3.3)\n",
            "Requirement already satisfied: numpy<1.22 in /usr/local/lib/python3.7/dist-packages (from livelossplot) (1.21.6)\n",
            "Requirement already satisfied: matplotlib in /usr/local/lib/python3.7/dist-packages (from livelossplot) (3.2.2)\n",
            "Requirement already satisfied: pickleshare in /usr/local/lib/python3.7/dist-packages (from ipython==7.*->livelossplot) (0.7.5)\n",
            "Requirement already satisfied: jedi>=0.10 in /usr/local/lib/python3.7/dist-packages (from ipython==7.*->livelossplot) (0.18.1)\n",
            "Requirement already satisfied: setuptools>=18.5 in /usr/local/lib/python3.7/dist-packages (from ipython==7.*->livelossplot) (57.4.0)\n",
            "Requirement already satisfied: traitlets>=4.2 in /usr/local/lib/python3.7/dist-packages (from ipython==7.*->livelossplot) (5.1.1)\n",
            "Requirement already satisfied: backcall in /usr/local/lib/python3.7/dist-packages (from ipython==7.*->livelossplot) (0.2.0)\n",
            "Requirement already satisfied: prompt-toolkit<2.1.0,>=2.0.0 in /usr/local/lib/python3.7/dist-packages (from ipython==7.*->livelossplot) (2.0.10)\n",
            "Requirement already satisfied: decorator in /usr/local/lib/python3.7/dist-packages (from ipython==7.*->livelossplot) (4.4.2)\n",
            "Requirement already satisfied: pexpect in /usr/local/lib/python3.7/dist-packages (from ipython==7.*->livelossplot) (4.8.0)\n",
            "Requirement already satisfied: pygments in /usr/local/lib/python3.7/dist-packages (from ipython==7.*->livelossplot) (2.6.1)\n",
            "Requirement already satisfied: parso<0.9.0,>=0.8.0 in /usr/local/lib/python3.7/dist-packages (from jedi>=0.10->ipython==7.*->livelossplot) (0.8.3)\n",
            "Requirement already satisfied: six>=1.9.0 in /usr/local/lib/python3.7/dist-packages (from prompt-toolkit<2.1.0,>=2.0.0->ipython==7.*->livelossplot) (1.15.0)\n",
            "Requirement already satisfied: wcwidth in /usr/local/lib/python3.7/dist-packages (from prompt-toolkit<2.1.0,>=2.0.0->ipython==7.*->livelossplot) (0.2.5)\n",
            "Requirement already satisfied: typing-extensions>=3.7.4 in /usr/local/lib/python3.7/dist-packages (from bokeh->livelossplot) (4.1.1)\n",
            "Requirement already satisfied: packaging>=16.8 in /usr/local/lib/python3.7/dist-packages (from bokeh->livelossplot) (21.3)\n",
            "Requirement already satisfied: tornado>=5.1 in /usr/local/lib/python3.7/dist-packages (from bokeh->livelossplot) (5.1.1)\n",
            "Requirement already satisfied: Jinja2>=2.9 in /usr/local/lib/python3.7/dist-packages (from bokeh->livelossplot) (2.11.3)\n",
            "Requirement already satisfied: python-dateutil>=2.1 in /usr/local/lib/python3.7/dist-packages (from bokeh->livelossplot) (2.8.2)\n",
            "Requirement already satisfied: pillow>=7.1.0 in /usr/local/lib/python3.7/dist-packages (from bokeh->livelossplot) (7.1.2)\n",
            "Requirement already satisfied: PyYAML>=3.10 in /usr/local/lib/python3.7/dist-packages (from bokeh->livelossplot) (6.0)\n",
            "Requirement already satisfied: MarkupSafe>=0.23 in /usr/local/lib/python3.7/dist-packages (from Jinja2>=2.9->bokeh->livelossplot) (2.0.1)\n",
            "Requirement already satisfied: pyparsing!=3.0.5,>=2.0.2 in /usr/local/lib/python3.7/dist-packages (from packaging>=16.8->bokeh->livelossplot) (3.0.9)\n",
            "Requirement already satisfied: cycler>=0.10 in /usr/local/lib/python3.7/dist-packages (from matplotlib->livelossplot) (0.11.0)\n",
            "Requirement already satisfied: kiwisolver>=1.0.1 in /usr/local/lib/python3.7/dist-packages (from matplotlib->livelossplot) (1.4.4)\n",
            "Requirement already satisfied: ptyprocess>=0.5 in /usr/local/lib/python3.7/dist-packages (from pexpect->ipython==7.*->livelossplot) (0.7.0)\n",
            "Installing collected packages: livelossplot\n",
            "Successfully installed livelossplot-0.5.5\n"
          ]
        }
      ]
    },
    {
      "cell_type": "markdown",
      "metadata": {
        "id": "My0tL0cciMXQ"
      },
      "source": [
        " **Train the Model**"
      ]
    },
    {
      "cell_type": "code",
      "execution_count": 27,
      "metadata": {
        "id": "_FSRfYiIXo2K"
      },
      "outputs": [],
      "source": [
        "from tensorflow.keras.callbacks import ModelCheckpoint, EarlyStopping\n",
        "from livelossplot.tf_keras import PlotLossesCallback"
      ]
    },
    {
      "cell_type": "code",
      "execution_count": 28,
      "metadata": {
        "id": "Q9HWH06Ypkxh",
        "colab": {
          "base_uri": "https://localhost:8080/",
          "height": 776
        },
        "outputId": "6c520346-925a-45b6-97a1-be945a38b901"
      },
      "outputs": [
        {
          "output_type": "display_data",
          "data": {
            "text/plain": [
              "<Figure size 864x576 with 2 Axes>"
            ],
            "image/png": "[encoded data removed]"
          },
          "metadata": {}
        },
        {
          "output_type": "stream",
          "name": "stdout",
          "text": [
            "accuracy\n",
            "\ttraining         \t (min:    0.959, max:    0.989, cur:    0.989)\n",
            "\tvalidation       \t (min:    0.981, max:    0.985, cur:    0.985)\n",
            "Loss\n",
            "\ttraining         \t (min:    0.037, max:    0.174, cur:    0.037)\n",
            "\tvalidation       \t (min:    0.049, max:    0.066, cur:    0.049)\n",
            "\n",
            "Epoch 3: val_loss improved from 0.05054 to 0.04877, saving model to model_weights.h5\n",
            "1199/1199 [==============================] - 404s 337ms/step - loss: 0.0368 - accuracy: 0.9887 - val_loss: 0.0488 - val_accuracy: 0.9855\n",
            "CPU times: user 30min 6s, sys: 3min 50s, total: 33min 56s\n",
            "Wall time: 20min 51s\n"
          ]
        }
      ],
      "source": [
        "%%time\n",
        "\n",
        "chkpt = ModelCheckpoint(\"model_weights.h5\", monitor='val_loss',verbose=1, save_best_only=True, save_weights_only=True, mode='min')\n",
        "\n",
        "early_stopping = EarlyStopping(monitor='val_accuracy', min_delta=0, patience=1, verbose=0, mode='max', baseline=None, restore_best_weights=False)\n",
        "\n",
        "callbacks = [PlotLossesCallback(), chkpt, early_stopping]\n",
        "\n",
        "history = model.fit(\n",
        "    x=x_train,\n",
        "    y=y_train,\n",
        "    validation_data=(x_test,y_test),\n",
        "    batch_size=32, \n",
        "    epochs=3,\n",
        "    callbacks=callbacks,\n",
        "    verbose=1\n",
        ")"
      ]
    },
    {
      "cell_type": "markdown",
      "source": [
        " Epochs above indicate the number of passes of the entire training dataset the machine learning algorithm has completed.\n",
        "\n",
        " The number of epochs is a hyperparameter of gradient descent that controls the number of complete passes through the training dataset\n",
        "\n",
        " Our model learns with a high level of accuracy and a small loss is incurred in the historical lessons learnt by this model"
      ],
      "metadata": {
        "id": "gJ5i3gfJvNf6"
      }
    },
    {
      "cell_type": "markdown",
      "metadata": {
        "id": "2nwnnF0ziU3B"
      },
      "source": [
        " **Evaluate Named Entity Recognition Model**"
      ]
    },
    {
      "cell_type": "code",
      "execution_count": 29,
      "metadata": {
        "id": "6euqX7UHplG7",
        "colab": {
          "base_uri": "https://localhost:8080/"
        },
        "outputId": "31abbd80-b034-4f6e-b819-f2e559776b7e"
      },
      "outputs": [
        {
          "output_type": "stream",
          "name": "stdout",
          "text": [
            "300/300 [==============================] - 9s 29ms/step - loss: 0.0488 - accuracy: 0.9855\n"
          ]
        },
        {
          "output_type": "execute_result",
          "data": {
            "text/plain": [
              "[0.048769257962703705, 0.9854754209518433]"
            ]
          },
          "metadata": {},
          "execution_count": 29
        }
      ],
      "source": [
        "model.evaluate(x_test, y_test)"
      ]
    },
    {
      "cell_type": "code",
      "execution_count": 30,
      "metadata": {
        "id": "Tyg4mKOVplJ-",
        "colab": {
          "base_uri": "https://localhost:8080/"
        },
        "outputId": "662ee69b-b418-4a25-e754-e41fed2ce267"
      },
      "outputs": [
        {
          "output_type": "stream",
          "name": "stdout",
          "text": [
            "Word           True \t Pred\n",
            "\n",
            "------------------------------\n",
            "The            O\tO\n",
            "United         B-geo\tB-geo\n",
            "States         I-geo\tI-geo\n",
            "has            O\tO\n",
            "103            O\tO\n",
            "nuclear        O\tO\n",
            "power          O\tO\n",
            "plants         O\tO\n",
            "in             O\tO\n",
            "31             O\tB-tim\n",
            "states         O\tO\n",
            ".              O\tO\n",
            "Kendrick       O\tO\n",
            "Kendrick       O\tO\n",
            "Kendrick       O\tO\n",
            "Kendrick       O\tO\n",
            "Kendrick       O\tO\n",
            "Kendrick       O\tO\n",
            "Kendrick       O\tO\n",
            "Kendrick       O\tO\n",
            "Kendrick       O\tO\n",
            "Kendrick       O\tO\n",
            "Kendrick       O\tO\n",
            "Kendrick       O\tO\n",
            "Kendrick       O\tO\n",
            "Kendrick       O\tO\n",
            "Kendrick       O\tO\n",
            "Kendrick       O\tO\n",
            "Kendrick       O\tO\n",
            "Kendrick       O\tO\n",
            "Kendrick       O\tO\n",
            "Kendrick       O\tO\n",
            "Kendrick       O\tO\n",
            "Kendrick       O\tO\n",
            "Kendrick       O\tO\n",
            "Kendrick       O\tO\n",
            "Kendrick       O\tO\n",
            "Kendrick       O\tO\n",
            "Kendrick       O\tO\n",
            "Kendrick       O\tO\n",
            "Kendrick       O\tO\n",
            "Kendrick       O\tO\n",
            "Kendrick       O\tO\n",
            "Kendrick       O\tO\n",
            "Kendrick       O\tO\n",
            "Kendrick       O\tO\n",
            "Kendrick       O\tO\n",
            "Kendrick       O\tO\n",
            "Kendrick       O\tO\n",
            "Kendrick       O\tO\n"
          ]
        }
      ],
      "source": [
        "i = np.random.randint(0, x_test.shape[0]) #659\n",
        "p = model.predict(np.array([x_test[i]]))\n",
        "p = np.argmax(p, axis=-1)\n",
        "y_true = y_test[i]\n",
        "print(\"{:15}{:5}\\t {}\\n\".format(\"Word\", \"True\", \"Pred\"))\n",
        "print(\"-\" *30)\n",
        "for w, true, pred in zip(x_test[i], y_true, p[0]):\n",
        "    print(\"{:15}{}\\t{}\".format(words[w-1], tags[true], tags[pred]))"
      ]
    },
    {
      "cell_type": "markdown",
      "source": [
        "# **Charting**\n",
        "Create a Named Entity Recognition (NER) model that takes in a comment as an input and outputs the Entities, if any, belonging\n",
        "to the categories: Person, Organization, Place/Location, Time\n"
      ],
      "metadata": {
        "id": "9DPY9XoKrsJv"
      }
    },
    {
      "cell_type": "code",
      "source": [
        "# import spacy\n",
        "import spacy\n",
        "from spacy import displacy\n",
        "\n",
        "NER = spacy.load(\"en_core_web_sm\")"
      ],
      "metadata": {
        "id": "oguFi0j_Hx0Q"
      },
      "execution_count": 94,
      "outputs": []
    },
    {
      "cell_type": "code",
      "source": [
        "# The text has been taken from the Monitor newspaper about Elly Tumwines death\n",
        "raw_text2 = \"Hundreds of government dignitaries and thousands of locals attended the burial preceded by rain about 260kms from Ugandas capital. Chief mourner and President Museveni's representative at the funeral,Prime Minister Robinah Nabbanjah told mourners she would remember Gen Tumwine as a straightforward mentor of many government officials. He would never backbite anyone and he called an eye an eye she observed. President Museveni August 29 challenged Ugandans to emulate the resilient bush war hero whose first shot actualized a guerilla war that brought him into power in 1986. Young people should learn from that spirit of patriotism and sacrifice, Mr Museveni said of his 1979 revolutionary army recruit and ideologue until 2022. Aged 68, the ex-combatant and Uganda’s longest serving army representative in Parliament died from Lung cancer in neighboring Kenya on August 25, igniting public debate over his double-edged legacy.\"\n",
        "text2= NER(raw_text2)"
      ],
      "metadata": {
        "id": "GgA7dr9oIar7"
      },
      "execution_count": 112,
      "outputs": []
    },
    {
      "cell_type": "code",
      "source": [
        "# print the data on the NEs found in this text\n",
        "for word in text2.ents:\n",
        "    print(word.text,word.label_)"
      ],
      "metadata": {
        "colab": {
          "base_uri": "https://localhost:8080/"
        },
        "id": "uHU0Ghq4J-HY",
        "outputId": "fd0d14a1-df90-43ab-e353-d7ef9688dbbc"
      },
      "execution_count": 113,
      "outputs": [
        {
          "output_type": "stream",
          "name": "stdout",
          "text": [
            "Hundreds CARDINAL\n",
            "thousands CARDINAL\n",
            "about 260kms CARDINAL\n",
            "Ugandas NORP\n",
            "Museveni PERSON\n",
            "Robinah Nabbanjah PERSON\n",
            "Gen Tumwine PERSON\n",
            "Museveni PERSON\n",
            "August 29 DATE\n",
            "Ugandans ORG\n",
            "first ORDINAL\n",
            "1986 DATE\n",
            "Museveni PERSON\n",
            "1979 DATE\n",
            "2022 DATE\n",
            "68 DATE\n",
            "Uganda GPE\n",
            "Parliament ORG\n",
            "Lung PERSON\n",
            "Kenya GPE\n",
            "August 25 DATE\n"
          ]
        }
      ]
    },
    {
      "cell_type": "markdown",
      "source": [
        "**Get more types of named entities. Let us identify what type they are**"
      ],
      "metadata": {
        "id": "eEdipsFSLo3e"
      }
    },
    {
      "cell_type": "code",
      "source": [
        "spacy.explain(\"PERSON\")"
      ],
      "metadata": {
        "colab": {
          "base_uri": "https://localhost:8080/",
          "height": 35
        },
        "id": "9A_0WYGYKFpC",
        "outputId": "17bd1a70-84ab-46c8-e210-dc7abd92991a"
      },
      "execution_count": 114,
      "outputs": [
        {
          "output_type": "execute_result",
          "data": {
            "text/plain": [
              "'People, including fictional'"
            ],
            "application/vnd.google.colaboratory.intrinsic+json": {
              "type": "string"
            }
          },
          "metadata": {},
          "execution_count": 114
        }
      ]
    },
    {
      "cell_type": "code",
      "source": [
        "spacy.explain(\"CARDINAL\")"
      ],
      "metadata": {
        "colab": {
          "base_uri": "https://localhost:8080/",
          "height": 35
        },
        "id": "3RY4vah0KW02",
        "outputId": "7e51ce95-32d0-4f3b-fef0-e3ba890cfdce"
      },
      "execution_count": 115,
      "outputs": [
        {
          "output_type": "execute_result",
          "data": {
            "text/plain": [
              "'Numerals that do not fall under another type'"
            ],
            "application/vnd.google.colaboratory.intrinsic+json": {
              "type": "string"
            }
          },
          "metadata": {},
          "execution_count": 115
        }
      ]
    },
    {
      "cell_type": "code",
      "source": [
        "spacy.explain(\"DATE\")"
      ],
      "metadata": {
        "colab": {
          "base_uri": "https://localhost:8080/",
          "height": 35
        },
        "id": "h2mJfkD7LMNL",
        "outputId": "1d9563d3-0ca8-4189-c32f-b7951b274216"
      },
      "execution_count": 116,
      "outputs": [
        {
          "output_type": "execute_result",
          "data": {
            "text/plain": [
              "'Absolute or relative dates or periods'"
            ],
            "application/vnd.google.colaboratory.intrinsic+json": {
              "type": "string"
            }
          },
          "metadata": {},
          "execution_count": 116
        }
      ]
    },
    {
      "cell_type": "markdown",
      "source": [
        "**Analyze the whole text in the form of a visual**"
      ],
      "metadata": {
        "id": "j4Obmo17LhDU"
      }
    },
    {
      "cell_type": "code",
      "source": [
        "displacy.render(text2,style=\"ent\",jupyter=True)"
      ],
      "metadata": {
        "colab": {
          "base_uri": "https://localhost:8080/",
          "height": 262
        },
        "id": "pLcoQJTeLVcr",
        "outputId": "c59bcac7-7b74-4653-bdd3-bb26ea2b452e"
      },
      "execution_count": 117,
      "outputs": [
        {
          "output_type": "display_data",
          "data": {
            "text/plain": [
              "<IPython.core.display.HTML object>"
            ],
            "text/html": [
              "<span class=\"tex2jax_ignore\"><div class=\"entities\" style=\"line-height: 2.5; direction: ltr\">\n",
              "<mark class=\"entity\" style=\"background: #e4e7d2; padding: 0.45em 0.6em; margin: 0 0.25em; line-height: 1; border-radius: 0.35em;\">\n",
              "    Hundreds\n",
              "    <span style=\"font-size: 0.8em; font-weight: bold; line-height: 1; border-radius: 0.35em; vertical-align: middle; margin-left: 0.5rem\">CARDINAL</span>\n",
              "</mark>\n",
              " of government dignitaries and \n",
              "<mark class=\"entity\" style=\"background: #e4e7d2; padding: 0.45em 0.6em; margin: 0 0.25em; line-height: 1; border-radius: 0.35em;\">\n",
              "    thousands\n",
              "    <span style=\"font-size: 0.8em; font-weight: bold; line-height: 1; border-radius: 0.35em; vertical-align: middle; margin-left: 0.5rem\">CARDINAL</span>\n",
              "</mark>\n",
              " of locals attended the burial preceded by rain \n",
              "<mark class=\"entity\" style=\"background: #e4e7d2; padding: 0.45em 0.6em; margin: 0 0.25em; line-height: 1; border-radius: 0.35em;\">\n",
              "    about 260kms\n",
              "    <span style=\"font-size: 0.8em; font-weight: bold; line-height: 1; border-radius: 0.35em; vertical-align: middle; margin-left: 0.5rem\">CARDINAL</span>\n",
              "</mark>\n",
              " from \n",
              "<mark class=\"entity\" style=\"background: #c887fb; padding: 0.45em 0.6em; margin: 0 0.25em; line-height: 1; border-radius: 0.35em;\">\n",
              "    Ugandas\n",
              "    <span style=\"font-size: 0.8em; font-weight: bold; line-height: 1; border-radius: 0.35em; vertical-align: middle; margin-left: 0.5rem\">NORP</span>\n",
              "</mark>\n",
              " capital. Chief mourner and President \n",
              "<mark class=\"entity\" style=\"background: #aa9cfc; padding: 0.45em 0.6em; margin: 0 0.25em; line-height: 1; border-radius: 0.35em;\">\n",
              "    Museveni\n",
              "    <span style=\"font-size: 0.8em; font-weight: bold; line-height: 1; border-radius: 0.35em; vertical-align: middle; margin-left: 0.5rem\">PERSON</span>\n",
              "</mark>\n",
              "'s representative at the funeral,Prime Minister \n",
              "<mark class=\"entity\" style=\"background: #aa9cfc; padding: 0.45em 0.6em; margin: 0 0.25em; line-height: 1; border-radius: 0.35em;\">\n",
              "    Robinah Nabbanjah\n",
              "    <span style=\"font-size: 0.8em; font-weight: bold; line-height: 1; border-radius: 0.35em; vertical-align: middle; margin-left: 0.5rem\">PERSON</span>\n",
              "</mark>\n",
              " told mourners she would remember \n",
              "<mark class=\"entity\" style=\"background: #aa9cfc; padding: 0.45em 0.6em; margin: 0 0.25em; line-height: 1; border-radius: 0.35em;\">\n",
              "    Gen Tumwine\n",
              "    <span style=\"font-size: 0.8em; font-weight: bold; line-height: 1; border-radius: 0.35em; vertical-align: middle; margin-left: 0.5rem\">PERSON</span>\n",
              "</mark>\n",
              " as a straightforward mentor of many government officials. He would never backbite anyone and he called an eye an eye she observed. President \n",
              "<mark class=\"entity\" style=\"background: #aa9cfc; padding: 0.45em 0.6em; margin: 0 0.25em; line-height: 1; border-radius: 0.35em;\">\n",
              "    Museveni\n",
              "    <span style=\"font-size: 0.8em; font-weight: bold; line-height: 1; border-radius: 0.35em; vertical-align: middle; margin-left: 0.5rem\">PERSON</span>\n",
              "</mark>\n",
              " \n",
              "<mark class=\"entity\" style=\"background: #bfe1d9; padding: 0.45em 0.6em; margin: 0 0.25em; line-height: 1; border-radius: 0.35em;\">\n",
              "    August 29\n",
              "    <span style=\"font-size: 0.8em; font-weight: bold; line-height: 1; border-radius: 0.35em; vertical-align: middle; margin-left: 0.5rem\">DATE</span>\n",
              "</mark>\n",
              " challenged \n",
              "<mark class=\"entity\" style=\"background: #7aecec; padding: 0.45em 0.6em; margin: 0 0.25em; line-height: 1; border-radius: 0.35em;\">\n",
              "    Ugandans\n",
              "    <span style=\"font-size: 0.8em; font-weight: bold; line-height: 1; border-radius: 0.35em; vertical-align: middle; margin-left: 0.5rem\">ORG</span>\n",
              "</mark>\n",
              " to emulate the resilient bush war hero whose \n",
              "<mark class=\"entity\" style=\"background: #e4e7d2; padding: 0.45em 0.6em; margin: 0 0.25em; line-height: 1; border-radius: 0.35em;\">\n",
              "    first\n",
              "    <span style=\"font-size: 0.8em; font-weight: bold; line-height: 1; border-radius: 0.35em; vertical-align: middle; margin-left: 0.5rem\">ORDINAL</span>\n",
              "</mark>\n",
              " shot actualized a guerilla war that brought him into power in \n",
              "<mark class=\"entity\" style=\"background: #bfe1d9; padding: 0.45em 0.6em; margin: 0 0.25em; line-height: 1; border-radius: 0.35em;\">\n",
              "    1986\n",
              "    <span style=\"font-size: 0.8em; font-weight: bold; line-height: 1; border-radius: 0.35em; vertical-align: middle; margin-left: 0.5rem\">DATE</span>\n",
              "</mark>\n",
              ". Young people should learn from that spirit of patriotism and sacrifice, Mr \n",
              "<mark class=\"entity\" style=\"background: #aa9cfc; padding: 0.45em 0.6em; margin: 0 0.25em; line-height: 1; border-radius: 0.35em;\">\n",
              "    Museveni\n",
              "    <span style=\"font-size: 0.8em; font-weight: bold; line-height: 1; border-radius: 0.35em; vertical-align: middle; margin-left: 0.5rem\">PERSON</span>\n",
              "</mark>\n",
              " said of his \n",
              "<mark class=\"entity\" style=\"background: #bfe1d9; padding: 0.45em 0.6em; margin: 0 0.25em; line-height: 1; border-radius: 0.35em;\">\n",
              "    1979\n",
              "    <span style=\"font-size: 0.8em; font-weight: bold; line-height: 1; border-radius: 0.35em; vertical-align: middle; margin-left: 0.5rem\">DATE</span>\n",
              "</mark>\n",
              " revolutionary army recruit and ideologue until \n",
              "<mark class=\"entity\" style=\"background: #bfe1d9; padding: 0.45em 0.6em; margin: 0 0.25em; line-height: 1; border-radius: 0.35em;\">\n",
              "    2022\n",
              "    <span style=\"font-size: 0.8em; font-weight: bold; line-height: 1; border-radius: 0.35em; vertical-align: middle; margin-left: 0.5rem\">DATE</span>\n",
              "</mark>\n",
              ". Aged \n",
              "<mark class=\"entity\" style=\"background: #bfe1d9; padding: 0.45em 0.6em; margin: 0 0.25em; line-height: 1; border-radius: 0.35em;\">\n",
              "    68\n",
              "    <span style=\"font-size: 0.8em; font-weight: bold; line-height: 1; border-radius: 0.35em; vertical-align: middle; margin-left: 0.5rem\">DATE</span>\n",
              "</mark>\n",
              ", the ex-combatant and \n",
              "<mark class=\"entity\" style=\"background: #feca74; padding: 0.45em 0.6em; margin: 0 0.25em; line-height: 1; border-radius: 0.35em;\">\n",
              "    Uganda\n",
              "    <span style=\"font-size: 0.8em; font-weight: bold; line-height: 1; border-radius: 0.35em; vertical-align: middle; margin-left: 0.5rem\">GPE</span>\n",
              "</mark>\n",
              "’s longest serving army representative in \n",
              "<mark class=\"entity\" style=\"background: #7aecec; padding: 0.45em 0.6em; margin: 0 0.25em; line-height: 1; border-radius: 0.35em;\">\n",
              "    Parliament\n",
              "    <span style=\"font-size: 0.8em; font-weight: bold; line-height: 1; border-radius: 0.35em; vertical-align: middle; margin-left: 0.5rem\">ORG</span>\n",
              "</mark>\n",
              " died from \n",
              "<mark class=\"entity\" style=\"background: #aa9cfc; padding: 0.45em 0.6em; margin: 0 0.25em; line-height: 1; border-radius: 0.35em;\">\n",
              "    Lung\n",
              "    <span style=\"font-size: 0.8em; font-weight: bold; line-height: 1; border-radius: 0.35em; vertical-align: middle; margin-left: 0.5rem\">PERSON</span>\n",
              "</mark>\n",
              " cancer in neighboring \n",
              "<mark class=\"entity\" style=\"background: #feca74; padding: 0.45em 0.6em; margin: 0 0.25em; line-height: 1; border-radius: 0.35em;\">\n",
              "    Kenya\n",
              "    <span style=\"font-size: 0.8em; font-weight: bold; line-height: 1; border-radius: 0.35em; vertical-align: middle; margin-left: 0.5rem\">GPE</span>\n",
              "</mark>\n",
              " on \n",
              "<mark class=\"entity\" style=\"background: #bfe1d9; padding: 0.45em 0.6em; margin: 0 0.25em; line-height: 1; border-radius: 0.35em;\">\n",
              "    August 25\n",
              "    <span style=\"font-size: 0.8em; font-weight: bold; line-height: 1; border-radius: 0.35em; vertical-align: middle; margin-left: 0.5rem\">DATE</span>\n",
              "</mark>\n",
              ", igniting public debate over his double-edged legacy.</div></span>"
            ]
          },
          "metadata": {}
        }
      ]
    },
    {
      "cell_type": "markdown",
      "source": [
        "**NER of a News Article**"
      ],
      "metadata": {
        "id": "ZIMlug9xN95C"
      }
    },
    {
      "cell_type": "code",
      "source": [
        "# NER of a News article\n",
        "from bs4 import BeautifulSoup\n",
        "import requests\n",
        "import re"
      ],
      "metadata": {
        "id": "pNs9FPUqLVai"
      },
      "execution_count": 118,
      "outputs": []
    },
    {
      "cell_type": "markdown",
      "source": [
        "**URL for new article**"
      ],
      "metadata": {
        "id": "dhWzWHReOGr5"
      }
    },
    {
      "cell_type": "code",
      "source": [
        "URL=\"https://www.zeebiz.com/markets/currency/news-cryptocurrency-news-today-june-12-bitcoin-dogecoin-shiba-inu-and-other-top-coins-prices-and-all-latest-updates-158490\""
      ],
      "metadata": {
        "id": "Sa5kaeB-LVVe"
      },
      "execution_count": 119,
      "outputs": []
    },
    {
      "cell_type": "code",
      "source": [
        "html_content = requests.get(URL).text"
      ],
      "metadata": {
        "id": "y_i3SaYEMRwN"
      },
      "execution_count": 120,
      "outputs": []
    },
    {
      "cell_type": "code",
      "source": [
        "html_content = requests.get(URL).text"
      ],
      "metadata": {
        "id": "drSFFjJVMVhT"
      },
      "execution_count": 121,
      "outputs": []
    },
    {
      "cell_type": "code",
      "source": [
        "soup = BeautifulSoup(html_content, \"lxml\")"
      ],
      "metadata": {
        "id": "oWTgsMjvMXz0"
      },
      "execution_count": 122,
      "outputs": []
    },
    {
      "cell_type": "markdown",
      "source": [
        "**Get the body content**"
      ],
      "metadata": {
        "id": "tAw7qtfCOh3L"
      }
    },
    {
      "cell_type": "code",
      "source": [
        "body=soup.body.text"
      ],
      "metadata": {
        "id": "mE71kWbhMaMj"
      },
      "execution_count": 123,
      "outputs": []
    },
    {
      "cell_type": "markdown",
      "source": [
        "We use regex to clean the text"
      ],
      "metadata": {
        "id": "qJbhEsqUOoFu"
      }
    },
    {
      "cell_type": "code",
      "source": [
        "body= body.replace('n', ' ')\n",
        "body= body.replace('t', ' ')\n",
        "body= body.replace('r', ' ')\n",
        "body= body.replace('xa0', ' ')\n",
        "body=re.sub(r'[^ws]', '', body)"
      ],
      "metadata": {
        "id": "LvRr54QAMdMR"
      },
      "execution_count": 124,
      "outputs": []
    },
    {
      "cell_type": "code",
      "source": [
        "body[1000:1500]"
      ],
      "metadata": {
        "colab": {
          "base_uri": "https://localhost:8080/",
          "height": 87
        },
        "id": "m1t0xmYtMgmO",
        "outputId": "64e9d98c-d7db-4298-ee4d-a4de368d37e6"
      },
      "execution_count": 125,
      "outputs": [
        {
          "output_type": "execute_result",
          "data": {
            "text/plain": [
              "'sswsssswsssssssssssssswsswwwsswwswsswswsswswswsssswsssssswssssssswssssssssswswsswswswswswswswswswssssssssssssssssssssssswwsssssssssssswwswwsssssssssssssssssssssssssssssssswswssswsssssssssssssswswssswswsssswswsssssswswsssssswswsswswssswswsssswswsssssswswsssssswswsswsssswsssswssssssswssssssswsswsssswssssswssssssswssssssswssswsssswssssswssssssswssssssswssswssssswssssswsssssssswsssssssswssswssssssswssssswsssssssssswsssssssssswssswswswswswswswswwswwswswwswwwwswsswwswsswwwwwswwwswwwsswwwssswwwssswwwss'"
            ],
            "application/vnd.google.colaboratory.intrinsic+json": {
              "type": "string"
            }
          },
          "metadata": {},
          "execution_count": 125
        }
      ]
    },
    {
      "cell_type": "code",
      "source": [
        "'View in App    Bitcoin was down by 6 and was trading at Rs 2728815 after hitting days high of Rs 2900208 Source Reuters        Reported By ZeeBiz WebTeam Written By Ravi Kant Kumar      Updated Sat Jun 12 20210646 pm   Patna ZeeBiz WebDesk    RELATED NEWS            Cryptocurrency Latest News Today June 14 Bitcoin leads crypto rally up over 12 after ELON MUSK TWEET Check Ethereum Polka Dot Dogecoin Shiba Inu and other top coins INR price World India updates             Bitcoin law is only'"
      ],
      "metadata": {
        "colab": {
          "base_uri": "https://localhost:8080/",
          "height": 87
        },
        "id": "qnm5mBW-MqFA",
        "outputId": "6ccf2bb7-6a07-43a3-b73d-65d969dcae56"
      },
      "execution_count": 130,
      "outputs": [
        {
          "output_type": "execute_result",
          "data": {
            "text/plain": [
              "'View in App    Bitcoin was down by 6 and was trading at Rs 2728815 after hitting days high of Rs 2900208 Source Reuters        Reported By ZeeBiz WebTeam Written By Ravi Kant Kumar      Updated Sat Jun 12 20210646 pm   Patna ZeeBiz WebDesk    RELATED NEWS            Cryptocurrency Latest News Today June 14 Bitcoin leads crypto rally up over 12 after ELON MUSK TWEET Check Ethereum Polka Dot Dogecoin Shiba Inu and other top coins INR price World India updates             Bitcoin law is only'"
            ],
            "application/vnd.google.colaboratory.intrinsic+json": {
              "type": "string"
            }
          },
          "metadata": {},
          "execution_count": 130
        }
      ]
    },
    {
      "cell_type": "markdown",
      "source": [
        "**Proceed with Named Entity Recognition**"
      ],
      "metadata": {
        "id": "uJQ8xlC0OuzP"
      }
    },
    {
      "cell_type": "code",
      "source": [
        "text3= NER(body)"
      ],
      "metadata": {
        "id": "9Es-8ucHMwOs"
      },
      "execution_count": 131,
      "outputs": []
    },
    {
      "cell_type": "code",
      "source": [
        "displacy.render(text3,style=\"ent\",jupyter=True)"
      ],
      "metadata": {
        "colab": {
          "base_uri": "https://localhost:8080/",
          "height": 72
        },
        "id": "F_aWtyWmMzno",
        "outputId": "4d6f4dce-2816-4463-f2da-08979a763ab0"
      },
      "execution_count": 132,
      "outputs": [
        {
          "output_type": "display_data",
          "data": {
            "text/plain": [
              "<IPython.core.display.HTML object>"
            ],
            "text/html": [
              "<span class=\"tex2jax_ignore\"><div class=\"entities\" style=\"line-height: 2.5; direction: ltr\">sssssssswswswswsswswswswsssssssswwwssssswwwssssswwwsssswwwsssswwwsssswwwssssswwwssssssswwwsssswsswwwsssswwwwssssswwwsssssswwwswsssssssssssssssssswswswsssswsssssssssssssswsssssswswsssssssswssswsssssswwsswsssswssssssswwssssssssswsswsssswswsswssswswsssssssssswsswwwssswwwswsssssswsswwsswswwwwswwsssssswwsswswwswwwswwssssssswsssswsswsssswswsswwwsssswwswsswssswswsswsssswswssssssswswssswssssswsssssswssssswwsswwsswwssssswsswsssssssssssswsssssssswsssswswssswsssssssssswsssswssswssssssssssssssssssssssssssssssssssssssswssssssswsswsssssssssssswwwwwssssssssssswssssssssswsssssssssswsssssssssssssssssssssssssssssssssssssssssswwwsssssssssssswssssssssssssssswwwwsssswsswsswssssswwswwsswwsssssssswsswwssssssswssssssswsssswssssssssssssssssssssssssssssssssssssssssssswsssssssssssssssssssssssssswsswsssswwwwsswwwwwsswwssswssswwsssssssssssssswswsswwssssssssssssswwswssssssssssssssswwsswwwwssssssswsswswwswsssssssswssssswsswsssswswsswwsswssswwwwswsssswwswwwwwssssswwwswwsssswwwswwwwwwwwswwssswwsswwwwwwswwssswsswwssssssswsssswsssssssssssssswsswwwsswwswsswswsswswswsssswsssssswssssssswssssssssswswsswswswswswswswswswssssssssssssssssssssssswwsssssssssssswwswwsssssssssssssssssssssssssssssssswswssswsssssssssssssswswssswswsssswswsssssswswsssssswswsswswssswswsssswswsssssswswsssssswswsswsssswsssswssssssswssssssswsswsssswssssswssssssswssssssswssswsssswssssswssssssswssssssswssswssssswssssswsssssssswsssssssswssswssssssswssssswsssssssssswsssssssssswssswswswswswswswswwswwswswwswwwwswsswwswsswwwwwswwwswwwsswwwssswwwssswwwsssssssswss</div></span>"
            ]
          },
          "metadata": {}
        }
      ]
    }
  ],
  "metadata": {
    "accelerator": "GPU",
    "colab": {
      "collapsed_sections": [],
      "provenance": []
    },
    "kernelspec": {
      "display_name": "Python 3",
      "language": "python",
      "name": "python3"
    },
    "language_info": {
      "codemirror_mode": {
        "name": "ipython",
        "version": 3
      },
      "file_extension": ".py",
      "mimetype": "text/x-python",
      "name": "python",
      "nbconvert_exporter": "python",
      "pygments_lexer": "ipython3",
      "version": "3.6.8"
    }
  },
  "nbformat": 4,
  "nbformat_minor": 0
}